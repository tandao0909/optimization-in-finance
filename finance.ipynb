{
 "cells": [
  {
   "cell_type": "markdown",
   "metadata": {},
   "source": [
    "First we need to read the data. I have downloaded the data and unzip into an `insurance.csv` file. You can find the original data at https://www.kaggle.com/datasets/mirichoi0218/insurance. Here are the meaning of each column, in case you need a quick reference:\n",
    "- age: The number of age\n",
    "- sex: Gender\n",
    "- bmi: Body mass index, measure using the formula (kg / m ^ 2), where kg is the weight in kilogram, and m is the height in meter.\n",
    "- children: The number of children covered by health insurance / the number of dependent\n",
    "- smoker: Smoking or not\n",
    "- region: The living place in the US, consists of northeast, southeast, northwest, southwest.\n",
    "- charges: Individual medical cost billed by health insurance."
   ]
  },
  {
   "cell_type": "code",
   "execution_count": 1,
   "metadata": {},
   "outputs": [],
   "source": [
    "import numpy as np\n",
    "import pandas as pd\n",
    "import matplotlib.pyplot as plt\n",
    "\n",
    "from sklearn.compose import make_column_transformer\n",
    "from sklearn.feature_selection import RFE\n",
    "from sklearn.impute import SimpleImputer\n",
    "from sklearn.pipeline import make_pipeline\n",
    "from sklearn.preprocessing import OneHotEncoder, MinMaxScaler, StandardScaler\n",
    "from sklearn.linear_model import LinearRegression\n",
    "\n",
    "from scipy.stats import t\n",
    "\n",
    "import statsmodels.api as sm\n",
    "\n",
    "import seaborn as sns\n",
    "\n",
    "data = pd.read_csv(\"insurance.csv\")"
   ]
  },
  {
   "cell_type": "markdown",
   "metadata": {},
   "source": [
    "We need to check if there's any missing or NA values."
   ]
  },
  {
   "cell_type": "code",
   "execution_count": 2,
   "metadata": {},
   "outputs": [
    {
     "data": {
      "text/plain": [
       "age         False\n",
       "sex         False\n",
       "bmi         False\n",
       "children    False\n",
       "smoker      False\n",
       "region      False\n",
       "charges     False\n",
       "dtype: bool"
      ]
     },
     "execution_count": 2,
     "metadata": {},
     "output_type": "execute_result"
    }
   ],
   "source": [
    "data.isnull().any()"
   ]
  },
  {
   "cell_type": "markdown",
   "metadata": {},
   "source": [
    "So there's no missing data.\n",
    "\n",
    "Need, we will see some descriptive statistics of the dataset.\n",
    "\n",
    "First, the numerical attributes."
   ]
  },
  {
   "cell_type": "code",
   "execution_count": 3,
   "metadata": {},
   "outputs": [
    {
     "data": {
      "text/html": [
       "<div>\n",
       "<style scoped>\n",
       "    .dataframe tbody tr th:only-of-type {\n",
       "        vertical-align: middle;\n",
       "    }\n",
       "\n",
       "    .dataframe tbody tr th {\n",
       "        vertical-align: top;\n",
       "    }\n",
       "\n",
       "    .dataframe thead th {\n",
       "        text-align: right;\n",
       "    }\n",
       "</style>\n",
       "<table border=\"1\" class=\"dataframe\">\n",
       "  <thead>\n",
       "    <tr style=\"text-align: right;\">\n",
       "      <th></th>\n",
       "      <th>age</th>\n",
       "      <th>bmi</th>\n",
       "      <th>children</th>\n",
       "      <th>charges</th>\n",
       "    </tr>\n",
       "  </thead>\n",
       "  <tbody>\n",
       "    <tr>\n",
       "      <th>count</th>\n",
       "      <td>1338.000000</td>\n",
       "      <td>1338.000000</td>\n",
       "      <td>1338.000000</td>\n",
       "      <td>1338.000000</td>\n",
       "    </tr>\n",
       "    <tr>\n",
       "      <th>mean</th>\n",
       "      <td>39.207025</td>\n",
       "      <td>30.663397</td>\n",
       "      <td>1.094918</td>\n",
       "      <td>13270.422265</td>\n",
       "    </tr>\n",
       "    <tr>\n",
       "      <th>std</th>\n",
       "      <td>14.049960</td>\n",
       "      <td>6.098187</td>\n",
       "      <td>1.205493</td>\n",
       "      <td>12110.011237</td>\n",
       "    </tr>\n",
       "    <tr>\n",
       "      <th>min</th>\n",
       "      <td>18.000000</td>\n",
       "      <td>15.960000</td>\n",
       "      <td>0.000000</td>\n",
       "      <td>1121.873900</td>\n",
       "    </tr>\n",
       "    <tr>\n",
       "      <th>25%</th>\n",
       "      <td>27.000000</td>\n",
       "      <td>26.296250</td>\n",
       "      <td>0.000000</td>\n",
       "      <td>4740.287150</td>\n",
       "    </tr>\n",
       "    <tr>\n",
       "      <th>50%</th>\n",
       "      <td>39.000000</td>\n",
       "      <td>30.400000</td>\n",
       "      <td>1.000000</td>\n",
       "      <td>9382.033000</td>\n",
       "    </tr>\n",
       "    <tr>\n",
       "      <th>75%</th>\n",
       "      <td>51.000000</td>\n",
       "      <td>34.693750</td>\n",
       "      <td>2.000000</td>\n",
       "      <td>16639.912515</td>\n",
       "    </tr>\n",
       "    <tr>\n",
       "      <th>max</th>\n",
       "      <td>64.000000</td>\n",
       "      <td>53.130000</td>\n",
       "      <td>5.000000</td>\n",
       "      <td>63770.428010</td>\n",
       "    </tr>\n",
       "  </tbody>\n",
       "</table>\n",
       "</div>"
      ],
      "text/plain": [
       "               age          bmi     children       charges\n",
       "count  1338.000000  1338.000000  1338.000000   1338.000000\n",
       "mean     39.207025    30.663397     1.094918  13270.422265\n",
       "std      14.049960     6.098187     1.205493  12110.011237\n",
       "min      18.000000    15.960000     0.000000   1121.873900\n",
       "25%      27.000000    26.296250     0.000000   4740.287150\n",
       "50%      39.000000    30.400000     1.000000   9382.033000\n",
       "75%      51.000000    34.693750     2.000000  16639.912515\n",
       "max      64.000000    53.130000     5.000000  63770.428010"
      ]
     },
     "execution_count": 3,
     "metadata": {},
     "output_type": "execute_result"
    }
   ],
   "source": [
    "data.describe()"
   ]
  },
  {
   "cell_type": "markdown",
   "metadata": {},
   "source": [
    "Then the categorical attributes."
   ]
  },
  {
   "cell_type": "code",
   "execution_count": 4,
   "metadata": {},
   "outputs": [
    {
     "data": {
      "text/html": [
       "<div>\n",
       "<style scoped>\n",
       "    .dataframe tbody tr th:only-of-type {\n",
       "        vertical-align: middle;\n",
       "    }\n",
       "\n",
       "    .dataframe tbody tr th {\n",
       "        vertical-align: top;\n",
       "    }\n",
       "\n",
       "    .dataframe thead th {\n",
       "        text-align: right;\n",
       "    }\n",
       "</style>\n",
       "<table border=\"1\" class=\"dataframe\">\n",
       "  <thead>\n",
       "    <tr style=\"text-align: right;\">\n",
       "      <th></th>\n",
       "      <th>sex</th>\n",
       "      <th>smoker</th>\n",
       "      <th>region</th>\n",
       "    </tr>\n",
       "  </thead>\n",
       "  <tbody>\n",
       "    <tr>\n",
       "      <th>count</th>\n",
       "      <td>1338</td>\n",
       "      <td>1338</td>\n",
       "      <td>1338</td>\n",
       "    </tr>\n",
       "    <tr>\n",
       "      <th>unique</th>\n",
       "      <td>2</td>\n",
       "      <td>2</td>\n",
       "      <td>4</td>\n",
       "    </tr>\n",
       "    <tr>\n",
       "      <th>top</th>\n",
       "      <td>male</td>\n",
       "      <td>no</td>\n",
       "      <td>southeast</td>\n",
       "    </tr>\n",
       "    <tr>\n",
       "      <th>freq</th>\n",
       "      <td>676</td>\n",
       "      <td>1064</td>\n",
       "      <td>364</td>\n",
       "    </tr>\n",
       "  </tbody>\n",
       "</table>\n",
       "</div>"
      ],
      "text/plain": [
       "         sex smoker     region\n",
       "count   1338   1338       1338\n",
       "unique     2      2          4\n",
       "top     male     no  southeast\n",
       "freq     676   1064        364"
      ]
     },
     "execution_count": 4,
     "metadata": {},
     "output_type": "execute_result"
    }
   ],
   "source": [
    "data.describe(include=\"object\")"
   ]
  },
  {
   "cell_type": "markdown",
   "metadata": {},
   "source": [
    "And plot all numeric features as histograms."
   ]
  },
  {
   "cell_type": "code",
   "execution_count": 5,
   "metadata": {},
   "outputs": [
    {
     "data": {
      "text/plain": [
       "array([[<Axes: title={'center': 'age'}>, <Axes: title={'center': 'bmi'}>],\n",
       "       [<Axes: title={'center': 'children'}>,\n",
       "        <Axes: title={'center': 'charges'}>]], dtype=object)"
      ]
     },
     "execution_count": 5,
     "metadata": {},
     "output_type": "execute_result"
    },
    {
     "data": {
      "image/png": "[encoded data removed]",
      "text/plain": [
       "<Figure size 640x480 with 4 Axes>"
      ]
     },
     "metadata": {},
     "output_type": "display_data"
    }
   ],
   "source": [
    "data.hist()"
   ]
  },
  {
   "cell_type": "code",
   "execution_count": 6,
   "metadata": {},
   "outputs": [
    {
     "data": {
      "text/plain": [
       "age           47\n",
       "sex            2\n",
       "bmi          548\n",
       "children       6\n",
       "smoker         2\n",
       "region         4\n",
       "charges     1337\n",
       "dtype: int64"
      ]
     },
     "execution_count": 6,
     "metadata": {},
     "output_type": "execute_result"
    }
   ],
   "source": [
    "data.nunique()"
   ]
  },
  {
   "cell_type": "markdown",
   "metadata": {},
   "source": [
    "But enough data snipping! We now need to split the dataset into training and validation set, and put the validation set aside. Since there are 1388 records, I will use 200, which is about 21.61% of the dataset as the validation set."
   ]
  },
  {
   "cell_type": "code",
   "execution_count": 7,
   "metadata": {},
   "outputs": [],
   "source": [
    "from sklearn.model_selection import train_test_split\n",
    "\n",
    "train, valid = train_test_split(data, test_size=200, random_state=42)\n",
    "X_train = train.drop(\"charges\", axis=1)\n",
    "y_train = train[\"charges\"]"
   ]
  },
  {
   "cell_type": "markdown",
   "metadata": {},
   "source": [
    "Here I define two *pipeline*, which are used to act as convenient functions to process input features."
   ]
  },
  {
   "cell_type": "code",
   "execution_count": 8,
   "metadata": {},
   "outputs": [],
   "source": [
    "num_pipeline = make_pipeline(SimpleImputer(strategy=\"mean\"), StandardScaler())\n",
    "\n",
    "cat_pipeline = make_pipeline(\n",
    "    SimpleImputer(strategy=\"most_frequent\"), OneHotEncoder(handle_unknown=\"ignore\")\n",
    ")\n",
    "\n",
    "num_columns = [\"age\", \"bmi\"]\n",
    "cat_columns = [\"sex\", \"children\", \"smoker\", \"region\"]\n",
    "\n",
    "preprocessing = make_column_transformer(\n",
    "    (num_pipeline, num_columns),\n",
    "    (cat_pipeline, cat_columns),\n",
    ")"
   ]
  },
  {
   "cell_type": "markdown",
   "metadata": {},
   "source": [
    "We preprocess the train set."
   ]
  },
  {
   "cell_type": "code",
   "execution_count": 9,
   "metadata": {},
   "outputs": [],
   "source": [
    "X_train_preprocessed = preprocessing.fit_transform(X_train)"
   ]
  },
  {
   "cell_type": "markdown",
   "metadata": {},
   "source": [
    "Convert to a `pd.DataFrame` for the sake of visualization."
   ]
  },
  {
   "cell_type": "code",
   "execution_count": 10,
   "metadata": {},
   "outputs": [
    {
     "data": {
      "text/html": [
       "<div>\n",
       "<style scoped>\n",
       "    .dataframe tbody tr th:only-of-type {\n",
       "        vertical-align: middle;\n",
       "    }\n",
       "\n",
       "    .dataframe tbody tr th {\n",
       "        vertical-align: top;\n",
       "    }\n",
       "\n",
       "    .dataframe thead th {\n",
       "        text-align: right;\n",
       "    }\n",
       "</style>\n",
       "<table border=\"1\" class=\"dataframe\">\n",
       "  <thead>\n",
       "    <tr style=\"text-align: right;\">\n",
       "      <th></th>\n",
       "      <th>pipeline-1__age</th>\n",
       "      <th>pipeline-1__bmi</th>\n",
       "      <th>pipeline-2__sex_female</th>\n",
       "      <th>pipeline-2__sex_male</th>\n",
       "      <th>pipeline-2__children_0</th>\n",
       "      <th>pipeline-2__children_1</th>\n",
       "      <th>pipeline-2__children_2</th>\n",
       "      <th>pipeline-2__children_3</th>\n",
       "      <th>pipeline-2__children_4</th>\n",
       "      <th>pipeline-2__children_5</th>\n",
       "      <th>pipeline-2__smoker_no</th>\n",
       "      <th>pipeline-2__smoker_yes</th>\n",
       "      <th>pipeline-2__region_northeast</th>\n",
       "      <th>pipeline-2__region_northwest</th>\n",
       "      <th>pipeline-2__region_southeast</th>\n",
       "      <th>pipeline-2__region_southwest</th>\n",
       "    </tr>\n",
       "  </thead>\n",
       "  <tbody>\n",
       "    <tr>\n",
       "      <th>1137</th>\n",
       "      <td>-0.940673</td>\n",
       "      <td>-1.357443</td>\n",
       "      <td>1.0</td>\n",
       "      <td>0.0</td>\n",
       "      <td>1.0</td>\n",
       "      <td>0.0</td>\n",
       "      <td>0.0</td>\n",
       "      <td>0.0</td>\n",
       "      <td>0.0</td>\n",
       "      <td>0.0</td>\n",
       "      <td>1.0</td>\n",
       "      <td>0.0</td>\n",
       "      <td>0.0</td>\n",
       "      <td>1.0</td>\n",
       "      <td>0.0</td>\n",
       "      <td>0.0</td>\n",
       "    </tr>\n",
       "    <tr>\n",
       "      <th>331</th>\n",
       "      <td>0.906952</td>\n",
       "      <td>-0.519801</td>\n",
       "      <td>0.0</td>\n",
       "      <td>1.0</td>\n",
       "      <td>1.0</td>\n",
       "      <td>0.0</td>\n",
       "      <td>0.0</td>\n",
       "      <td>0.0</td>\n",
       "      <td>0.0</td>\n",
       "      <td>0.0</td>\n",
       "      <td>0.0</td>\n",
       "      <td>1.0</td>\n",
       "      <td>0.0</td>\n",
       "      <td>1.0</td>\n",
       "      <td>0.0</td>\n",
       "      <td>0.0</td>\n",
       "    </tr>\n",
       "    <tr>\n",
       "      <th>796</th>\n",
       "      <td>-0.656423</td>\n",
       "      <td>2.233149</td>\n",
       "      <td>0.0</td>\n",
       "      <td>1.0</td>\n",
       "      <td>0.0</td>\n",
       "      <td>0.0</td>\n",
       "      <td>1.0</td>\n",
       "      <td>0.0</td>\n",
       "      <td>0.0</td>\n",
       "      <td>0.0</td>\n",
       "      <td>1.0</td>\n",
       "      <td>0.0</td>\n",
       "      <td>0.0</td>\n",
       "      <td>0.0</td>\n",
       "      <td>1.0</td>\n",
       "      <td>0.0</td>\n",
       "    </tr>\n",
       "    <tr>\n",
       "      <th>1039</th>\n",
       "      <td>-1.438110</td>\n",
       "      <td>-0.535313</td>\n",
       "      <td>0.0</td>\n",
       "      <td>1.0</td>\n",
       "      <td>0.0</td>\n",
       "      <td>0.0</td>\n",
       "      <td>1.0</td>\n",
       "      <td>0.0</td>\n",
       "      <td>0.0</td>\n",
       "      <td>0.0</td>\n",
       "      <td>1.0</td>\n",
       "      <td>0.0</td>\n",
       "      <td>0.0</td>\n",
       "      <td>1.0</td>\n",
       "      <td>0.0</td>\n",
       "      <td>0.0</td>\n",
       "    </tr>\n",
       "    <tr>\n",
       "      <th>261</th>\n",
       "      <td>-1.367048</td>\n",
       "      <td>-0.604709</td>\n",
       "      <td>1.0</td>\n",
       "      <td>0.0</td>\n",
       "      <td>0.0</td>\n",
       "      <td>1.0</td>\n",
       "      <td>0.0</td>\n",
       "      <td>0.0</td>\n",
       "      <td>0.0</td>\n",
       "      <td>0.0</td>\n",
       "      <td>0.0</td>\n",
       "      <td>1.0</td>\n",
       "      <td>0.0</td>\n",
       "      <td>0.0</td>\n",
       "      <td>1.0</td>\n",
       "      <td>0.0</td>\n",
       "    </tr>\n",
       "  </tbody>\n",
       "</table>\n",
       "</div>"
      ],
      "text/plain": [
       "      pipeline-1__age  pipeline-1__bmi  pipeline-2__sex_female  \\\n",
       "1137        -0.940673        -1.357443                     1.0   \n",
       "331          0.906952        -0.519801                     0.0   \n",
       "796         -0.656423         2.233149                     0.0   \n",
       "1039        -1.438110        -0.535313                     0.0   \n",
       "261         -1.367048        -0.604709                     1.0   \n",
       "\n",
       "      pipeline-2__sex_male  pipeline-2__children_0  pipeline-2__children_1  \\\n",
       "1137                   0.0                     1.0                     0.0   \n",
       "331                    1.0                     1.0                     0.0   \n",
       "796                    1.0                     0.0                     0.0   \n",
       "1039                   1.0                     0.0                     0.0   \n",
       "261                    0.0                     0.0                     1.0   \n",
       "\n",
       "      pipeline-2__children_2  pipeline-2__children_3  pipeline-2__children_4  \\\n",
       "1137                     0.0                     0.0                     0.0   \n",
       "331                      0.0                     0.0                     0.0   \n",
       "796                      1.0                     0.0                     0.0   \n",
       "1039                     1.0                     0.0                     0.0   \n",
       "261                      0.0                     0.0                     0.0   \n",
       "\n",
       "      pipeline-2__children_5  pipeline-2__smoker_no  pipeline-2__smoker_yes  \\\n",
       "1137                     0.0                    1.0                     0.0   \n",
       "331                      0.0                    0.0                     1.0   \n",
       "796                      0.0                    1.0                     0.0   \n",
       "1039                     0.0                    1.0                     0.0   \n",
       "261                      0.0                    0.0                     1.0   \n",
       "\n",
       "      pipeline-2__region_northeast  pipeline-2__region_northwest  \\\n",
       "1137                           0.0                           1.0   \n",
       "331                            0.0                           1.0   \n",
       "796                            0.0                           0.0   \n",
       "1039                           0.0                           1.0   \n",
       "261                            0.0                           0.0   \n",
       "\n",
       "      pipeline-2__region_southeast  pipeline-2__region_southwest  \n",
       "1137                           0.0                           0.0  \n",
       "331                            0.0                           0.0  \n",
       "796                            1.0                           0.0  \n",
       "1039                           0.0                           0.0  \n",
       "261                            1.0                           0.0  "
      ]
     },
     "execution_count": 10,
     "metadata": {},
     "output_type": "execute_result"
    }
   ],
   "source": [
    "X_train_preprocessed_dataframe = pd.DataFrame(\n",
    "    X_train_preprocessed,\n",
    "    index=X_train.index,\n",
    "    columns=preprocessing.get_feature_names_out(),\n",
    ")\n",
    "X_train_preprocessed_dataframe.head()"
   ]
  },
  {
   "cell_type": "markdown",
   "metadata": {},
   "source": [
    "And check the corelation of each feature with regard to the output feature."
   ]
  },
  {
   "cell_type": "code",
   "execution_count": 11,
   "metadata": {},
   "outputs": [
    {
     "data": {
      "text/plain": [
       "pipeline-1__age                 0.286336\n",
       "pipeline-1__bmi                 0.200900\n",
       "pipeline-2__sex_female         -0.056761\n",
       "pipeline-2__sex_male            0.056761\n",
       "pipeline-2__children_0         -0.067045\n",
       "pipeline-2__children_1         -0.031748\n",
       "pipeline-2__children_2          0.085988\n",
       "pipeline-2__children_3          0.056387\n",
       "pipeline-2__children_4          0.003696\n",
       "pipeline-2__children_5         -0.039626\n",
       "pipeline-2__smoker_no          -0.780530\n",
       "pipeline-2__smoker_yes          0.780530\n",
       "pipeline-2__region_northeast   -0.003090\n",
       "pipeline-2__region_northwest   -0.050548\n",
       "pipeline-2__region_southeast    0.083205\n",
       "pipeline-2__region_southwest   -0.032565\n",
       "charges                         1.000000\n",
       "Name: charges, dtype: float64"
      ]
     },
     "execution_count": 11,
     "metadata": {},
     "output_type": "execute_result"
    }
   ],
   "source": [
    "train_preprocessed_dataframe = X_train_preprocessed_dataframe.copy(deep=True)\n",
    "train_preprocessed_dataframe[\"charges\"] = y_train\n",
    "train_preprocessed_dataframe.corr(\"pearson\")[\"charges\"]"
   ]
  },
  {
   "cell_type": "markdown",
   "metadata": {},
   "source": [
    "According to the corelation, the variable with the highest corelation with `charges` is `smoker`, next is `age`, then `bmi`. All other variables don't have noticeable influence on `charges` (correlation < 0.1)."
   ]
  },
  {
   "cell_type": "code",
   "execution_count": 12,
   "metadata": {},
   "outputs": [
    {
     "data": {
      "text/html": [
       "<style>#sk-container-id-1 {color: black;}#sk-container-id-1 pre{padding: 0;}#sk-container-id-1 div.sk-toggleable {background-color: white;}#sk-container-id-1 label.sk-toggleable__label {cursor: pointer;display: block;width: 100%;margin-bottom: 0;padding: 0.3em;box-sizing: border-box;text-align: center;}#sk-container-id-1 label.sk-toggleable__label-arrow:before {content: \"▸\";float: left;margin-right: 0.25em;color: #696969;}#sk-container-id-1 label.sk-toggleable__label-arrow:hover:before {color: black;}#sk-container-id-1 div.sk-estimator:hover label.sk-toggleable__label-arrow:before {color: black;}#sk-container-id-1 div.sk-toggleable__content {max-height: 0;max-width: 0;overflow: hidden;text-align: left;background-color: #f0f8ff;}#sk-container-id-1 div.sk-toggleable__content pre {margin: 0.2em;color: black;border-radius: 0.25em;background-color: #f0f8ff;}#sk-container-id-1 input.sk-toggleable__control:checked~div.sk-toggleable__content {max-height: 200px;max-width: 100%;overflow: auto;}#sk-container-id-1 input.sk-toggleable__control:checked~label.sk-toggleable__label-arrow:before {content: \"▾\";}#sk-container-id-1 div.sk-estimator input.sk-toggleable__control:checked~label.sk-toggleable__label {background-color: #d4ebff;}#sk-container-id-1 div.sk-label input.sk-toggleable__control:checked~label.sk-toggleable__label {background-color: #d4ebff;}#sk-container-id-1 input.sk-hidden--visually {border: 0;clip: rect(1px 1px 1px 1px);clip: rect(1px, 1px, 1px, 1px);height: 1px;margin: -1px;overflow: hidden;padding: 0;position: absolute;width: 1px;}#sk-container-id-1 div.sk-estimator {font-family: monospace;background-color: #f0f8ff;border: 1px dotted black;border-radius: 0.25em;box-sizing: border-box;margin-bottom: 0.5em;}#sk-container-id-1 div.sk-estimator:hover {background-color: #d4ebff;}#sk-container-id-1 div.sk-parallel-item::after {content: \"\";width: 100%;border-bottom: 1px solid gray;flex-grow: 1;}#sk-container-id-1 div.sk-label:hover label.sk-toggleable__label {background-color: #d4ebff;}#sk-container-id-1 div.sk-serial::before {content: \"\";position: absolute;border-left: 1px solid gray;box-sizing: border-box;top: 0;bottom: 0;left: 50%;z-index: 0;}#sk-container-id-1 div.sk-serial {display: flex;flex-direction: column;align-items: center;background-color: white;padding-right: 0.2em;padding-left: 0.2em;position: relative;}#sk-container-id-1 div.sk-item {position: relative;z-index: 1;}#sk-container-id-1 div.sk-parallel {display: flex;align-items: stretch;justify-content: center;background-color: white;position: relative;}#sk-container-id-1 div.sk-item::before, #sk-container-id-1 div.sk-parallel-item::before {content: \"\";position: absolute;border-left: 1px solid gray;box-sizing: border-box;top: 0;bottom: 0;left: 50%;z-index: -1;}#sk-container-id-1 div.sk-parallel-item {display: flex;flex-direction: column;z-index: 1;position: relative;background-color: white;}#sk-container-id-1 div.sk-parallel-item:first-child::after {align-self: flex-end;width: 50%;}#sk-container-id-1 div.sk-parallel-item:last-child::after {align-self: flex-start;width: 50%;}#sk-container-id-1 div.sk-parallel-item:only-child::after {width: 0;}#sk-container-id-1 div.sk-dashed-wrapped {border: 1px dashed gray;margin: 0 0.4em 0.5em 0.4em;box-sizing: border-box;padding-bottom: 0.4em;background-color: white;}#sk-container-id-1 div.sk-label label {font-family: monospace;font-weight: bold;display: inline-block;line-height: 1.2em;}#sk-container-id-1 div.sk-label-container {text-align: center;}#sk-container-id-1 div.sk-container {/* jupyter's `normalize.less` sets `[hidden] { display: none; }` but bootstrap.min.css set `[hidden] { display: none !important; }` so we also need the `!important` here to be able to override the default hidden behavior on the sphinx rendered scikit-learn.org. See: https://github.com/scikit-learn/scikit-learn/issues/21755 */display: inline-block !important;position: relative;}#sk-container-id-1 div.sk-text-repr-fallback {display: none;}</style><div id=\"sk-container-id-1\" class=\"sk-top-container\"><div class=\"sk-text-repr-fallback\"><pre>RFE(estimator=LinearRegression(), n_features_to_select=10)</pre><b>In a Jupyter environment, please rerun this cell to show the HTML representation or trust the notebook. <br />On GitHub, the HTML representation is unable to render, please try loading this page with nbviewer.org.</b></div><div class=\"sk-container\" hidden><div class=\"sk-item sk-dashed-wrapped\"><div class=\"sk-label-container\"><div class=\"sk-label sk-toggleable\"><input class=\"sk-toggleable__control sk-hidden--visually\" id=\"sk-estimator-id-1\" type=\"checkbox\" ><label for=\"sk-estimator-id-1\" class=\"sk-toggleable__label sk-toggleable__label-arrow\">RFE</label><div class=\"sk-toggleable__content\"><pre>RFE(estimator=LinearRegression(), n_features_to_select=10)</pre></div></div></div><div class=\"sk-parallel\"><div class=\"sk-parallel-item\"><div class=\"sk-item\"><div class=\"sk-label-container\"><div class=\"sk-label sk-toggleable\"><input class=\"sk-toggleable__control sk-hidden--visually\" id=\"sk-estimator-id-2\" type=\"checkbox\" ><label for=\"sk-estimator-id-2\" class=\"sk-toggleable__label sk-toggleable__label-arrow\">estimator: LinearRegression</label><div class=\"sk-toggleable__content\"><pre>LinearRegression()</pre></div></div></div><div class=\"sk-serial\"><div class=\"sk-item\"><div class=\"sk-estimator sk-toggleable\"><input class=\"sk-toggleable__control sk-hidden--visually\" id=\"sk-estimator-id-3\" type=\"checkbox\" ><label for=\"sk-estimator-id-3\" class=\"sk-toggleable__label sk-toggleable__label-arrow\">LinearRegression</label><div class=\"sk-toggleable__content\"><pre>LinearRegression()</pre></div></div></div></div></div></div></div></div></div></div>"
      ],
      "text/plain": [
       "RFE(estimator=LinearRegression(), n_features_to_select=10)"
      ]
     },
     "execution_count": 12,
     "metadata": {},
     "output_type": "execute_result"
    }
   ],
   "source": [
    "lin_reg = LinearRegression()\n",
    "lin_reg.fit(X_train_preprocessed, y_train)\n",
    "\n",
    "rfe = RFE(lin_reg, n_features_to_select=10)\n",
    "rfe.fit(X_train_preprocessed, y_train)"
   ]
  },
  {
   "cell_type": "code",
   "execution_count": 13,
   "metadata": {},
   "outputs": [
    {
     "data": {
      "text/plain": [
       "[('pipeline-1__age', True, 1),\n",
       " ('pipeline-1__bmi', True, 1),\n",
       " ('pipeline-2__sex_female', False, 6),\n",
       " ('pipeline-2__sex_male', False, 5),\n",
       " ('pipeline-2__children_0', True, 1),\n",
       " ('pipeline-2__children_1', True, 1),\n",
       " ('pipeline-2__children_2', True, 1),\n",
       " ('pipeline-2__children_3', False, 2),\n",
       " ('pipeline-2__children_4', True, 1),\n",
       " ('pipeline-2__children_5', True, 1),\n",
       " ('pipeline-2__smoker_no', True, 1),\n",
       " ('pipeline-2__smoker_yes', True, 1),\n",
       " ('pipeline-2__region_northeast', True, 1),\n",
       " ('pipeline-2__region_northwest', False, 7),\n",
       " ('pipeline-2__region_southeast', False, 4),\n",
       " ('pipeline-2__region_southwest', False, 3)]"
      ]
     },
     "execution_count": 13,
     "metadata": {},
     "output_type": "execute_result"
    }
   ],
   "source": [
    "list(zip(X_train_preprocessed_dataframe.columns, rfe.support_, rfe.ranking_))"
   ]
  },
  {
   "cell_type": "code",
   "execution_count": 14,
   "metadata": {},
   "outputs": [
    {
     "data": {
      "text/plain": [
       "Index(['pipeline-1__age', 'pipeline-1__bmi', 'pipeline-2__children_0',\n",
       "       'pipeline-2__children_1', 'pipeline-2__children_2',\n",
       "       'pipeline-2__children_4', 'pipeline-2__children_5',\n",
       "       'pipeline-2__smoker_no', 'pipeline-2__smoker_yes',\n",
       "       'pipeline-2__region_northeast'],\n",
       "      dtype='object')"
      ]
     },
     "execution_count": 14,
     "metadata": {},
     "output_type": "execute_result"
    }
   ],
   "source": [
    "# columns where RFE support_ is true\n",
    "columns = X_train_preprocessed_dataframe.columns[rfe.support_]\n",
    "columns"
   ]
  },
  {
   "cell_type": "code",
   "execution_count": 15,
   "metadata": {},
   "outputs": [
    {
     "data": {
      "text/plain": [
       "Index(['pipeline-2__sex_female', 'pipeline-2__sex_male',\n",
       "       'pipeline-2__children_3', 'pipeline-2__region_northwest',\n",
       "       'pipeline-2__region_southeast', 'pipeline-2__region_southwest'],\n",
       "      dtype='object')"
      ]
     },
     "execution_count": 15,
     "metadata": {},
     "output_type": "execute_result"
    }
   ],
   "source": [
    "# columns where RFE support_ is false\n",
    "X_train_preprocessed_dataframe.columns[~rfe.support_]"
   ]
  },
  {
   "cell_type": "markdown",
   "metadata": {},
   "source": [
    "# Using `statsmodels` for detailed statistics"
   ]
  },
  {
   "cell_type": "code",
   "execution_count": 16,
   "metadata": {},
   "outputs": [
    {
     "data": {
      "text/plain": [
       "(1138, 10)"
      ]
     },
     "execution_count": 16,
     "metadata": {},
     "output_type": "execute_result"
    }
   ],
   "source": [
    "X = X_train_preprocessed_dataframe[columns]\n",
    "X.shape"
   ]
  },
  {
   "cell_type": "markdown",
   "metadata": {},
   "source": [
    "See what happen when I use the library `statsmodels`."
   ]
  },
  {
   "cell_type": "code",
   "execution_count": 17,
   "metadata": {},
   "outputs": [
    {
     "name": "stdout",
     "output_type": "stream",
     "text": [
      "                            OLS Regression Results                            \n",
      "==============================================================================\n",
      "Dep. Variable:                charges   R-squared:                       0.744\n",
      "Model:                            OLS   Adj. R-squared:                  0.742\n",
      "Method:                 Least Squares   F-statistic:                     364.0\n",
      "Date:                Tue, 21 May 2024   Prob (F-statistic):               0.00\n",
      "Time:                        00:19:22   Log-Likelihood:                -11534.\n",
      "No. Observations:                1138   AIC:                         2.309e+04\n",
      "Df Residuals:                    1128   BIC:                         2.314e+04\n",
      "Df Model:                           9                                         \n",
      "Covariance Type:            nonrobust                                         \n",
      "================================================================================================\n",
      "                                   coef    std err          t      P>|t|      [0.025      0.975]\n",
      "------------------------------------------------------------------------------------------------\n",
      "const                         1.348e+04    371.875     36.259      0.000    1.28e+04    1.42e+04\n",
      "pipeline-1__age               3675.7689    183.843     19.994      0.000    3315.056    4036.482\n",
      "pipeline-1__bmi               1958.9128    185.007     10.588      0.000    1595.916    2321.909\n",
      "pipeline-2__children_0        -594.6859    601.741     -0.988      0.323   -1775.343     585.971\n",
      "pipeline-2__children_1        -251.0885    650.370     -0.386      0.700   -1527.160    1024.983\n",
      "pipeline-2__children_2        1193.4936    687.168      1.737      0.083    -154.777    2541.764\n",
      "pipeline-2__children_4        2482.1419   1387.506      1.789      0.074    -240.241    5204.525\n",
      "pipeline-2__children_5          -4.9422   1626.421     -0.003      0.998   -3196.093    3186.209\n",
      "pipeline-2__smoker_no        -5125.9191    262.392    -19.535      0.000   -5640.750   -4611.088\n",
      "pipeline-2__smoker_yes        1.861e+04    321.146     57.948      0.000     1.8e+04    1.92e+04\n",
      "pipeline-2__region_northeast   565.7855    430.465      1.314      0.189    -278.817    1410.388\n",
      "==============================================================================\n",
      "Omnibus:                      259.463   Durbin-Watson:                   2.093\n",
      "Prob(Omnibus):                  0.000   Jarque-Bera (JB):              625.955\n",
      "Skew:                           1.219   Prob(JB):                    1.19e-136\n",
      "Kurtosis:                       5.695   Cond. No.                     1.32e+16\n",
      "==============================================================================\n",
      "\n",
      "Notes:\n",
      "[1] Standard Errors assume that the covariance matrix of the errors is correctly specified.\n",
      "[2] The smallest eigenvalue is 1.34e-29. This might indicate that there are\n",
      "strong multicollinearity problems or that the design matrix is singular.\n"
     ]
    }
   ],
   "source": [
    "X = sm.add_constant(X)\n",
    "ols = sm.OLS(y_train, X).fit(use_t=True)\n",
    "\n",
    "print(ols.summary())"
   ]
  },
  {
   "cell_type": "markdown",
   "metadata": {},
   "source": [
    "# Working with VIF"
   ]
  },
  {
   "cell_type": "code",
   "execution_count": 18,
   "metadata": {},
   "outputs": [],
   "source": [
    "X = X.drop(\"const\", axis=1)"
   ]
  },
  {
   "cell_type": "code",
   "execution_count": 19,
   "metadata": {},
   "outputs": [
    {
     "data": {
      "text/html": [
       "<div>\n",
       "<style scoped>\n",
       "    .dataframe tbody tr th:only-of-type {\n",
       "        vertical-align: middle;\n",
       "    }\n",
       "\n",
       "    .dataframe tbody tr th {\n",
       "        vertical-align: top;\n",
       "    }\n",
       "\n",
       "    .dataframe thead th {\n",
       "        text-align: right;\n",
       "    }\n",
       "</style>\n",
       "<table border=\"1\" class=\"dataframe\">\n",
       "  <thead>\n",
       "    <tr style=\"text-align: right;\">\n",
       "      <th></th>\n",
       "      <th>Features</th>\n",
       "      <th>VIF</th>\n",
       "    </tr>\n",
       "  </thead>\n",
       "  <tbody>\n",
       "    <tr>\n",
       "      <th>7</th>\n",
       "      <td>pipeline-2__smoker_no</td>\n",
       "      <td>7.49864</td>\n",
       "    </tr>\n",
       "    <tr>\n",
       "      <th>2</th>\n",
       "      <td>pipeline-2__children_0</td>\n",
       "      <td>2.69136</td>\n",
       "    </tr>\n",
       "    <tr>\n",
       "      <th>8</th>\n",
       "      <td>pipeline-2__smoker_yes</td>\n",
       "      <td>2.55494</td>\n",
       "    </tr>\n",
       "    <tr>\n",
       "      <th>3</th>\n",
       "      <td>pipeline-2__children_1</td>\n",
       "      <td>2.32892</td>\n",
       "    </tr>\n",
       "    <tr>\n",
       "      <th>4</th>\n",
       "      <td>pipeline-2__children_2</td>\n",
       "      <td>2.07878</td>\n",
       "    </tr>\n",
       "    <tr>\n",
       "      <th>5</th>\n",
       "      <td>pipeline-2__children_4</td>\n",
       "      <td>1.15404</td>\n",
       "    </tr>\n",
       "    <tr>\n",
       "      <th>6</th>\n",
       "      <td>pipeline-2__children_5</td>\n",
       "      <td>1.11001</td>\n",
       "    </tr>\n",
       "    <tr>\n",
       "      <th>1</th>\n",
       "      <td>pipeline-1__bmi</td>\n",
       "      <td>1.03611</td>\n",
       "    </tr>\n",
       "    <tr>\n",
       "      <th>9</th>\n",
       "      <td>pipeline-2__region_northeast</td>\n",
       "      <td>1.02539</td>\n",
       "    </tr>\n",
       "    <tr>\n",
       "      <th>0</th>\n",
       "      <td>pipeline-1__age</td>\n",
       "      <td>1.02312</td>\n",
       "    </tr>\n",
       "  </tbody>\n",
       "</table>\n",
       "</div>"
      ],
      "text/plain": [
       "                       Features      VIF\n",
       "7         pipeline-2__smoker_no  7.49864\n",
       "2        pipeline-2__children_0  2.69136\n",
       "8        pipeline-2__smoker_yes  2.55494\n",
       "3        pipeline-2__children_1  2.32892\n",
       "4        pipeline-2__children_2  2.07878\n",
       "5        pipeline-2__children_4  1.15404\n",
       "6        pipeline-2__children_5  1.11001\n",
       "1               pipeline-1__bmi  1.03611\n",
       "9  pipeline-2__region_northeast  1.02539\n",
       "0               pipeline-1__age  1.02312"
      ]
     },
     "execution_count": 19,
     "metadata": {},
     "output_type": "execute_result"
    }
   ],
   "source": [
    "from statsmodels.stats.outliers_influence import variance_inflation_factor\n",
    "\n",
    "vif = pd.DataFrame()\n",
    "vif[\"Features\"] = X.columns\n",
    "vif[\"VIF\"] = [variance_inflation_factor(X.values, i) for i in range(X.shape[1])]\n",
    "vif[\"VIF\"] = vif[\"VIF\"].round(5)\n",
    "vif.sort_values(by=\"VIF\", ascending=False)"
   ]
  },
  {
   "cell_type": "markdown",
   "metadata": {},
   "source": [
    "Looks like we need to drop `smoker_no`, due to its high VIF value (>5)."
   ]
  },
  {
   "cell_type": "code",
   "execution_count": 20,
   "metadata": {},
   "outputs": [],
   "source": [
    "# drop smoker_no\n",
    "X_train_new = X.drop(\"pipeline-2__smoker_no\", axis=1)"
   ]
  },
  {
   "cell_type": "code",
   "execution_count": 21,
   "metadata": {},
   "outputs": [
    {
     "name": "stdout",
     "output_type": "stream",
     "text": [
      "                            OLS Regression Results                            \n",
      "==============================================================================\n",
      "Dep. Variable:                charges   R-squared:                       0.744\n",
      "Model:                            OLS   Adj. R-squared:                  0.742\n",
      "Method:                 Least Squares   F-statistic:                     364.0\n",
      "Date:                Tue, 21 May 2024   Prob (F-statistic):               0.00\n",
      "Time:                        00:19:22   Log-Likelihood:                -11534.\n",
      "No. Observations:                1138   AIC:                         2.309e+04\n",
      "Df Residuals:                    1128   BIC:                         2.314e+04\n",
      "Df Model:                           9                                         \n",
      "Covariance Type:            nonrobust                                         \n",
      "================================================================================================\n",
      "                                   coef    std err          t      P>|t|      [0.025      0.975]\n",
      "------------------------------------------------------------------------------------------------\n",
      "const                         8357.9628    557.805     14.984      0.000    7263.510    9452.415\n",
      "pipeline-1__age               3675.7689    183.843     19.994      0.000    3315.056    4036.482\n",
      "pipeline-1__bmi               1958.9128    185.007     10.588      0.000    1595.916    2321.909\n",
      "pipeline-2__children_0        -594.6859    601.741     -0.988      0.323   -1775.343     585.971\n",
      "pipeline-2__children_1        -251.0885    650.370     -0.386      0.700   -1527.160    1024.983\n",
      "pipeline-2__children_2        1193.4936    687.168      1.737      0.083    -154.777    2541.764\n",
      "pipeline-2__children_4        2482.1419   1387.506      1.789      0.074    -240.241    5204.525\n",
      "pipeline-2__children_5          -4.9422   1626.421     -0.003      0.998   -3196.093    3186.209\n",
      "pipeline-2__smoker_yes        2.374e+04    453.516     52.337      0.000    2.28e+04    2.46e+04\n",
      "pipeline-2__region_northeast   565.7855    430.465      1.314      0.189    -278.817    1410.388\n",
      "==============================================================================\n",
      "Omnibus:                      259.463   Durbin-Watson:                   2.093\n",
      "Prob(Omnibus):                  0.000   Jarque-Bera (JB):              625.955\n",
      "Skew:                           1.219   Prob(JB):                    1.19e-136\n",
      "Kurtosis:                       5.695   Cond. No.                         11.4\n",
      "==============================================================================\n",
      "\n",
      "Notes:\n",
      "[1] Standard Errors assume that the covariance matrix of the errors is correctly specified.\n"
     ]
    }
   ],
   "source": [
    "X_train_new = sm.add_constant(X_train_new)\n",
    "ols = sm.OLS(y_train, X_train_new).fit()\n",
    "print(ols.summary())"
   ]
  },
  {
   "cell_type": "code",
   "execution_count": 22,
   "metadata": {},
   "outputs": [
    {
     "data": {
      "text/html": [
       "<div>\n",
       "<style scoped>\n",
       "    .dataframe tbody tr th:only-of-type {\n",
       "        vertical-align: middle;\n",
       "    }\n",
       "\n",
       "    .dataframe tbody tr th {\n",
       "        vertical-align: top;\n",
       "    }\n",
       "\n",
       "    .dataframe thead th {\n",
       "        text-align: right;\n",
       "    }\n",
       "</style>\n",
       "<table border=\"1\" class=\"dataframe\">\n",
       "  <thead>\n",
       "    <tr style=\"text-align: right;\">\n",
       "      <th></th>\n",
       "      <th>Features</th>\n",
       "      <th>VIF</th>\n",
       "    </tr>\n",
       "  </thead>\n",
       "  <tbody>\n",
       "    <tr>\n",
       "      <th>8</th>\n",
       "      <td>pipeline-2__region_northeast</td>\n",
       "      <td>1.28905</td>\n",
       "    </tr>\n",
       "    <tr>\n",
       "      <th>2</th>\n",
       "      <td>pipeline-2__children_0</td>\n",
       "      <td>1.23414</td>\n",
       "    </tr>\n",
       "    <tr>\n",
       "      <th>7</th>\n",
       "      <td>pipeline-2__smoker_yes</td>\n",
       "      <td>1.21687</td>\n",
       "    </tr>\n",
       "    <tr>\n",
       "      <th>3</th>\n",
       "      <td>pipeline-2__children_1</td>\n",
       "      <td>1.11173</td>\n",
       "    </tr>\n",
       "    <tr>\n",
       "      <th>4</th>\n",
       "      <td>pipeline-2__children_2</td>\n",
       "      <td>1.09608</td>\n",
       "    </tr>\n",
       "    <tr>\n",
       "      <th>1</th>\n",
       "      <td>pipeline-1__bmi</td>\n",
       "      <td>1.03538</td>\n",
       "    </tr>\n",
       "    <tr>\n",
       "      <th>0</th>\n",
       "      <td>pipeline-1__age</td>\n",
       "      <td>1.01777</td>\n",
       "    </tr>\n",
       "    <tr>\n",
       "      <th>5</th>\n",
       "      <td>pipeline-2__children_4</td>\n",
       "      <td>1.01215</td>\n",
       "    </tr>\n",
       "    <tr>\n",
       "      <th>6</th>\n",
       "      <td>pipeline-2__children_5</td>\n",
       "      <td>1.00308</td>\n",
       "    </tr>\n",
       "  </tbody>\n",
       "</table>\n",
       "</div>"
      ],
      "text/plain": [
       "                       Features      VIF\n",
       "8  pipeline-2__region_northeast  1.28905\n",
       "2        pipeline-2__children_0  1.23414\n",
       "7        pipeline-2__smoker_yes  1.21687\n",
       "3        pipeline-2__children_1  1.11173\n",
       "4        pipeline-2__children_2  1.09608\n",
       "1               pipeline-1__bmi  1.03538\n",
       "0               pipeline-1__age  1.01777\n",
       "5        pipeline-2__children_4  1.01215\n",
       "6        pipeline-2__children_5  1.00308"
      ]
     },
     "execution_count": 22,
     "metadata": {},
     "output_type": "execute_result"
    }
   ],
   "source": [
    "X = X_train_new.drop(\"const\", axis=1)\n",
    "vif = pd.DataFrame()\n",
    "vif[\"Features\"] = X.columns\n",
    "vif[\"VIF\"] = [variance_inflation_factor(X.values, i) for i in range(X.shape[1])]\n",
    "vif[\"VIF\"] = vif[\"VIF\"].round(5)\n",
    "vif.sort_values(by=\"VIF\", ascending=False)"
   ]
  },
  {
   "cell_type": "markdown",
   "metadata": {},
   "source": [
    "The VIF values are great, they're all below the 5 threshold. However, the p-values are not so good. Look at them, look like everything we should keep are `age`, `bmi`, and `smoker_yes`."
   ]
  },
  {
   "cell_type": "code",
   "execution_count": 23,
   "metadata": {},
   "outputs": [
    {
     "data": {
      "text/html": [
       "<div>\n",
       "<style scoped>\n",
       "    .dataframe tbody tr th:only-of-type {\n",
       "        vertical-align: middle;\n",
       "    }\n",
       "\n",
       "    .dataframe tbody tr th {\n",
       "        vertical-align: top;\n",
       "    }\n",
       "\n",
       "    .dataframe thead th {\n",
       "        text-align: right;\n",
       "    }\n",
       "</style>\n",
       "<table border=\"1\" class=\"dataframe\">\n",
       "  <thead>\n",
       "    <tr style=\"text-align: right;\">\n",
       "      <th></th>\n",
       "      <th>pipeline-1__age</th>\n",
       "      <th>pipeline-1__bmi</th>\n",
       "      <th>pipeline-2__smoker_yes</th>\n",
       "    </tr>\n",
       "  </thead>\n",
       "  <tbody>\n",
       "    <tr>\n",
       "      <th>0</th>\n",
       "      <td>-1.438110</td>\n",
       "      <td>-0.431629</td>\n",
       "      <td>1.0</td>\n",
       "    </tr>\n",
       "    <tr>\n",
       "      <th>1</th>\n",
       "      <td>-1.509173</td>\n",
       "      <td>0.526842</td>\n",
       "      <td>0.0</td>\n",
       "    </tr>\n",
       "    <tr>\n",
       "      <th>2</th>\n",
       "      <td>-0.798548</td>\n",
       "      <td>0.401114</td>\n",
       "      <td>0.0</td>\n",
       "    </tr>\n",
       "    <tr>\n",
       "      <th>3</th>\n",
       "      <td>-0.443235</td>\n",
       "      <td>-1.279884</td>\n",
       "      <td>0.0</td>\n",
       "    </tr>\n",
       "    <tr>\n",
       "      <th>4</th>\n",
       "      <td>-0.514298</td>\n",
       "      <td>-0.271611</td>\n",
       "      <td>0.0</td>\n",
       "    </tr>\n",
       "    <tr>\n",
       "      <th>...</th>\n",
       "      <td>...</td>\n",
       "      <td>...</td>\n",
       "      <td>...</td>\n",
       "    </tr>\n",
       "    <tr>\n",
       "      <th>1333</th>\n",
       "      <td>0.764827</td>\n",
       "      <td>0.069650</td>\n",
       "      <td>0.0</td>\n",
       "    </tr>\n",
       "    <tr>\n",
       "      <th>1334</th>\n",
       "      <td>-1.509173</td>\n",
       "      <td>0.224769</td>\n",
       "      <td>0.0</td>\n",
       "    </tr>\n",
       "    <tr>\n",
       "      <th>1335</th>\n",
       "      <td>-1.509173</td>\n",
       "      <td>1.029754</td>\n",
       "      <td>0.0</td>\n",
       "    </tr>\n",
       "    <tr>\n",
       "      <th>1336</th>\n",
       "      <td>-1.295985</td>\n",
       "      <td>-0.774523</td>\n",
       "      <td>0.0</td>\n",
       "    </tr>\n",
       "    <tr>\n",
       "      <th>1337</th>\n",
       "      <td>1.546515</td>\n",
       "      <td>-0.240588</td>\n",
       "      <td>1.0</td>\n",
       "    </tr>\n",
       "  </tbody>\n",
       "</table>\n",
       "<p>1138 rows × 3 columns</p>\n",
       "</div>"
      ],
      "text/plain": [
       "      pipeline-1__age  pipeline-1__bmi  pipeline-2__smoker_yes\n",
       "0           -1.438110        -0.431629                     1.0\n",
       "1           -1.509173         0.526842                     0.0\n",
       "2           -0.798548         0.401114                     0.0\n",
       "3           -0.443235        -1.279884                     0.0\n",
       "4           -0.514298        -0.271611                     0.0\n",
       "...               ...              ...                     ...\n",
       "1333         0.764827         0.069650                     0.0\n",
       "1334        -1.509173         0.224769                     0.0\n",
       "1335        -1.509173         1.029754                     0.0\n",
       "1336        -1.295985        -0.774523                     0.0\n",
       "1337         1.546515        -0.240588                     1.0\n",
       "\n",
       "[1138 rows x 3 columns]"
      ]
     },
     "execution_count": 23,
     "metadata": {},
     "output_type": "execute_result"
    }
   ],
   "source": [
    "columns = [\"pipeline-1__age\", \"pipeline-1__bmi\", \"pipeline-2__smoker_yes\"]\n",
    "X_train_preprocessed_dataframe = X_train_preprocessed_dataframe[columns]\n",
    "X_train_preprocessed_dataframe.sort_index()"
   ]
  },
  {
   "cell_type": "code",
   "execution_count": 24,
   "metadata": {},
   "outputs": [
    {
     "name": "stdout",
     "output_type": "stream",
     "text": [
      "                            OLS Regression Results                            \n",
      "==============================================================================\n",
      "Dep. Variable:                charges   R-squared:                       0.740\n",
      "Model:                            OLS   Adj. R-squared:                  0.739\n",
      "Method:                 Least Squares   F-statistic:                     1075.\n",
      "Date:                Tue, 21 May 2024   Prob (F-statistic):               0.00\n",
      "Time:                        00:19:22   Log-Likelihood:                -11543.\n",
      "No. Observations:                1138   AIC:                         2.309e+04\n",
      "Df Residuals:                    1134   BIC:                         2.311e+04\n",
      "Df Model:                           3                                         \n",
      "Covariance Type:            nonrobust                                         \n",
      "==========================================================================================\n",
      "                             coef    std err          t      P>|t|      [0.025      0.975]\n",
      "------------------------------------------------------------------------------------------\n",
      "const                   8430.0095    204.816     41.159      0.000    8028.149    8831.869\n",
      "pipeline-1__age         3692.8972    184.065     20.063      0.000    3331.751    4054.043\n",
      "pipeline-1__bmi         1946.4454    183.861     10.587      0.000    1585.700    2307.191\n",
      "pipeline-2__smoker_yes  2.377e+04    454.054     52.355      0.000    2.29e+04    2.47e+04\n",
      "==============================================================================\n",
      "Omnibus:                      266.341   Durbin-Watson:                   2.097\n",
      "Prob(Omnibus):                  0.000   Jarque-Bera (JB):              644.957\n",
      "Skew:                           1.249   Prob(JB):                    8.90e-141\n",
      "Kurtosis:                       5.714   Cond. No.                         2.68\n",
      "==============================================================================\n",
      "\n",
      "Notes:\n",
      "[1] Standard Errors assume that the covariance matrix of the errors is correctly specified.\n"
     ]
    }
   ],
   "source": [
    "X_train = sm.add_constant(X_train_preprocessed_dataframe)\n",
    "ols = sm.OLS(y_train, X_train).fit()\n",
    "print(ols.summary())"
   ]
  },
  {
   "cell_type": "code",
   "execution_count": 25,
   "metadata": {},
   "outputs": [
    {
     "name": "stderr",
     "output_type": "stream",
     "text": [
      "/home/tan/miniconda3/envs/handsonds/lib/python3.11/site-packages/seaborn/_oldcore.py:1119: FutureWarning: use_inf_as_na option is deprecated and will be removed in a future version. Convert inf values to NaN before operating instead.\n",
      "  with pd.option_context('mode.use_inf_as_na', True):\n"
     ]
    },
    {
     "data": {
      "text/plain": [
       "<Figure size 1000x1000 with 0 Axes>"
      ]
     },
     "metadata": {},
     "output_type": "display_data"
    },
    {
     "data": {
      "image/png": "[encoded data removed]",
      "text/plain": [
       "<Figure size 500x500 with 1 Axes>"
      ]
     },
     "metadata": {},
     "output_type": "display_data"
    }
   ],
   "source": [
    "y_predict = ols.predict(X_train)\n",
    "\n",
    "plt.figure(figsize=(10, 10))\n",
    "sns.displot((y_train - y_predict), bins=20)\n",
    "plt.show()"
   ]
  },
  {
   "cell_type": "markdown",
   "metadata": {},
   "source": [
    "You can see that the residual errors are somewhat normally distributed."
   ]
  },
  {
   "cell_type": "markdown",
   "metadata": {},
   "source": [
    "# Check on validation set"
   ]
  },
  {
   "cell_type": "code",
   "execution_count": 26,
   "metadata": {},
   "outputs": [],
   "source": [
    "X_valid = valid.drop(\"charges\", axis=1)\n",
    "y_valid = valid[\"charges\"]"
   ]
  },
  {
   "cell_type": "code",
   "execution_count": 27,
   "metadata": {},
   "outputs": [],
   "source": [
    "X_valid_preprocessed = preprocessing.transform(X_valid)"
   ]
  },
  {
   "cell_type": "code",
   "execution_count": 28,
   "metadata": {},
   "outputs": [
    {
     "data": {
      "text/html": [
       "<div>\n",
       "<style scoped>\n",
       "    .dataframe tbody tr th:only-of-type {\n",
       "        vertical-align: middle;\n",
       "    }\n",
       "\n",
       "    .dataframe tbody tr th {\n",
       "        vertical-align: top;\n",
       "    }\n",
       "\n",
       "    .dataframe thead th {\n",
       "        text-align: right;\n",
       "    }\n",
       "</style>\n",
       "<table border=\"1\" class=\"dataframe\">\n",
       "  <thead>\n",
       "    <tr style=\"text-align: right;\">\n",
       "      <th></th>\n",
       "      <th>pipeline-1__age</th>\n",
       "      <th>pipeline-1__bmi</th>\n",
       "      <th>pipeline-2__sex_female</th>\n",
       "      <th>pipeline-2__sex_male</th>\n",
       "      <th>pipeline-2__children_0</th>\n",
       "      <th>pipeline-2__children_1</th>\n",
       "      <th>pipeline-2__children_2</th>\n",
       "      <th>pipeline-2__children_3</th>\n",
       "      <th>pipeline-2__children_4</th>\n",
       "      <th>pipeline-2__children_5</th>\n",
       "      <th>pipeline-2__smoker_no</th>\n",
       "      <th>pipeline-2__smoker_yes</th>\n",
       "      <th>pipeline-2__region_northeast</th>\n",
       "      <th>pipeline-2__region_northwest</th>\n",
       "      <th>pipeline-2__region_southeast</th>\n",
       "      <th>pipeline-2__region_southwest</th>\n",
       "    </tr>\n",
       "  </thead>\n",
       "  <tbody>\n",
       "    <tr>\n",
       "      <th>count</th>\n",
       "      <td>200.000000</td>\n",
       "      <td>200.000000</td>\n",
       "      <td>200.000000</td>\n",
       "      <td>200.000000</td>\n",
       "      <td>200.000000</td>\n",
       "      <td>200.000000</td>\n",
       "      <td>200.000000</td>\n",
       "      <td>200.000000</td>\n",
       "      <td>200.000000</td>\n",
       "      <td>200.000000</td>\n",
       "      <td>200.00000</td>\n",
       "      <td>200.00000</td>\n",
       "      <td>200.000000</td>\n",
       "      <td>200.000000</td>\n",
       "      <td>200.000000</td>\n",
       "      <td>200.000000</td>\n",
       "    </tr>\n",
       "    <tr>\n",
       "      <th>mean</th>\n",
       "      <td>-0.014373</td>\n",
       "      <td>0.131036</td>\n",
       "      <td>0.525000</td>\n",
       "      <td>0.475000</td>\n",
       "      <td>0.405000</td>\n",
       "      <td>0.260000</td>\n",
       "      <td>0.195000</td>\n",
       "      <td>0.120000</td>\n",
       "      <td>0.010000</td>\n",
       "      <td>0.010000</td>\n",
       "      <td>0.79000</td>\n",
       "      <td>0.21000</td>\n",
       "      <td>0.250000</td>\n",
       "      <td>0.240000</td>\n",
       "      <td>0.275000</td>\n",
       "      <td>0.235000</td>\n",
       "    </tr>\n",
       "    <tr>\n",
       "      <th>std</th>\n",
       "      <td>0.989283</td>\n",
       "      <td>0.963362</td>\n",
       "      <td>0.500628</td>\n",
       "      <td>0.500628</td>\n",
       "      <td>0.492124</td>\n",
       "      <td>0.439735</td>\n",
       "      <td>0.397195</td>\n",
       "      <td>0.325777</td>\n",
       "      <td>0.099748</td>\n",
       "      <td>0.099748</td>\n",
       "      <td>0.40833</td>\n",
       "      <td>0.40833</td>\n",
       "      <td>0.434099</td>\n",
       "      <td>0.428155</td>\n",
       "      <td>0.447635</td>\n",
       "      <td>0.425063</td>\n",
       "    </tr>\n",
       "    <tr>\n",
       "      <th>min</th>\n",
       "      <td>-1.509173</td>\n",
       "      <td>-2.241620</td>\n",
       "      <td>0.000000</td>\n",
       "      <td>0.000000</td>\n",
       "      <td>0.000000</td>\n",
       "      <td>0.000000</td>\n",
       "      <td>0.000000</td>\n",
       "      <td>0.000000</td>\n",
       "      <td>0.000000</td>\n",
       "      <td>0.000000</td>\n",
       "      <td>0.00000</td>\n",
       "      <td>0.00000</td>\n",
       "      <td>0.000000</td>\n",
       "      <td>0.000000</td>\n",
       "      <td>0.000000</td>\n",
       "      <td>0.000000</td>\n",
       "    </tr>\n",
       "    <tr>\n",
       "      <th>25%</th>\n",
       "      <td>-0.869610</td>\n",
       "      <td>-0.597361</td>\n",
       "      <td>0.000000</td>\n",
       "      <td>0.000000</td>\n",
       "      <td>0.000000</td>\n",
       "      <td>0.000000</td>\n",
       "      <td>0.000000</td>\n",
       "      <td>0.000000</td>\n",
       "      <td>0.000000</td>\n",
       "      <td>0.000000</td>\n",
       "      <td>1.00000</td>\n",
       "      <td>0.00000</td>\n",
       "      <td>0.000000</td>\n",
       "      <td>0.000000</td>\n",
       "      <td>0.000000</td>\n",
       "      <td>0.000000</td>\n",
       "    </tr>\n",
       "    <tr>\n",
       "      <th>50%</th>\n",
       "      <td>-0.016860</td>\n",
       "      <td>0.131697</td>\n",
       "      <td>1.000000</td>\n",
       "      <td>0.000000</td>\n",
       "      <td>0.000000</td>\n",
       "      <td>0.000000</td>\n",
       "      <td>0.000000</td>\n",
       "      <td>0.000000</td>\n",
       "      <td>0.000000</td>\n",
       "      <td>0.000000</td>\n",
       "      <td>1.00000</td>\n",
       "      <td>0.00000</td>\n",
       "      <td>0.000000</td>\n",
       "      <td>0.000000</td>\n",
       "      <td>0.000000</td>\n",
       "      <td>0.000000</td>\n",
       "    </tr>\n",
       "    <tr>\n",
       "      <th>75%</th>\n",
       "      <td>0.764827</td>\n",
       "      <td>0.774828</td>\n",
       "      <td>1.000000</td>\n",
       "      <td>1.000000</td>\n",
       "      <td>1.000000</td>\n",
       "      <td>1.000000</td>\n",
       "      <td>0.000000</td>\n",
       "      <td>0.000000</td>\n",
       "      <td>0.000000</td>\n",
       "      <td>0.000000</td>\n",
       "      <td>1.00000</td>\n",
       "      <td>0.00000</td>\n",
       "      <td>0.250000</td>\n",
       "      <td>0.000000</td>\n",
       "      <td>1.000000</td>\n",
       "      <td>0.000000</td>\n",
       "    </tr>\n",
       "    <tr>\n",
       "      <th>max</th>\n",
       "      <td>1.759702</td>\n",
       "      <td>3.598194</td>\n",
       "      <td>1.000000</td>\n",
       "      <td>1.000000</td>\n",
       "      <td>1.000000</td>\n",
       "      <td>1.000000</td>\n",
       "      <td>1.000000</td>\n",
       "      <td>1.000000</td>\n",
       "      <td>1.000000</td>\n",
       "      <td>1.000000</td>\n",
       "      <td>1.00000</td>\n",
       "      <td>1.00000</td>\n",
       "      <td>1.000000</td>\n",
       "      <td>1.000000</td>\n",
       "      <td>1.000000</td>\n",
       "      <td>1.000000</td>\n",
       "    </tr>\n",
       "  </tbody>\n",
       "</table>\n",
       "</div>"
      ],
      "text/plain": [
       "       pipeline-1__age  pipeline-1__bmi  pipeline-2__sex_female  \\\n",
       "count       200.000000       200.000000              200.000000   \n",
       "mean         -0.014373         0.131036                0.525000   \n",
       "std           0.989283         0.963362                0.500628   \n",
       "min          -1.509173        -2.241620                0.000000   \n",
       "25%          -0.869610        -0.597361                0.000000   \n",
       "50%          -0.016860         0.131697                1.000000   \n",
       "75%           0.764827         0.774828                1.000000   \n",
       "max           1.759702         3.598194                1.000000   \n",
       "\n",
       "       pipeline-2__sex_male  pipeline-2__children_0  pipeline-2__children_1  \\\n",
       "count            200.000000              200.000000              200.000000   \n",
       "mean               0.475000                0.405000                0.260000   \n",
       "std                0.500628                0.492124                0.439735   \n",
       "min                0.000000                0.000000                0.000000   \n",
       "25%                0.000000                0.000000                0.000000   \n",
       "50%                0.000000                0.000000                0.000000   \n",
       "75%                1.000000                1.000000                1.000000   \n",
       "max                1.000000                1.000000                1.000000   \n",
       "\n",
       "       pipeline-2__children_2  pipeline-2__children_3  pipeline-2__children_4  \\\n",
       "count              200.000000              200.000000              200.000000   \n",
       "mean                 0.195000                0.120000                0.010000   \n",
       "std                  0.397195                0.325777                0.099748   \n",
       "min                  0.000000                0.000000                0.000000   \n",
       "25%                  0.000000                0.000000                0.000000   \n",
       "50%                  0.000000                0.000000                0.000000   \n",
       "75%                  0.000000                0.000000                0.000000   \n",
       "max                  1.000000                1.000000                1.000000   \n",
       "\n",
       "       pipeline-2__children_5  pipeline-2__smoker_no  pipeline-2__smoker_yes  \\\n",
       "count              200.000000              200.00000               200.00000   \n",
       "mean                 0.010000                0.79000                 0.21000   \n",
       "std                  0.099748                0.40833                 0.40833   \n",
       "min                  0.000000                0.00000                 0.00000   \n",
       "25%                  0.000000                1.00000                 0.00000   \n",
       "50%                  0.000000                1.00000                 0.00000   \n",
       "75%                  0.000000                1.00000                 0.00000   \n",
       "max                  1.000000                1.00000                 1.00000   \n",
       "\n",
       "       pipeline-2__region_northeast  pipeline-2__region_northwest  \\\n",
       "count                    200.000000                    200.000000   \n",
       "mean                       0.250000                      0.240000   \n",
       "std                        0.434099                      0.428155   \n",
       "min                        0.000000                      0.000000   \n",
       "25%                        0.000000                      0.000000   \n",
       "50%                        0.000000                      0.000000   \n",
       "75%                        0.250000                      0.000000   \n",
       "max                        1.000000                      1.000000   \n",
       "\n",
       "       pipeline-2__region_southeast  pipeline-2__region_southwest  \n",
       "count                    200.000000                    200.000000  \n",
       "mean                       0.275000                      0.235000  \n",
       "std                        0.447635                      0.425063  \n",
       "min                        0.000000                      0.000000  \n",
       "25%                        0.000000                      0.000000  \n",
       "50%                        0.000000                      0.000000  \n",
       "75%                        1.000000                      0.000000  \n",
       "max                        1.000000                      1.000000  "
      ]
     },
     "execution_count": 28,
     "metadata": {},
     "output_type": "execute_result"
    }
   ],
   "source": [
    "X_valid_preprocessed_dataframe = pd.DataFrame(\n",
    "    X_valid_preprocessed,\n",
    "    index=X_valid.index,\n",
    "    columns=preprocessing.get_feature_names_out(),\n",
    ")\n",
    "X_valid_preprocessed_dataframe.describe()"
   ]
  },
  {
   "cell_type": "code",
   "execution_count": 29,
   "metadata": {},
   "outputs": [],
   "source": [
    "# We only use descriptive features known earlier\n",
    "X_train = X_train.drop(\"const\", axis=1)\n",
    "X_valid_preprocessed_dataframe = X_valid_preprocessed_dataframe[X_train.columns]"
   ]
  },
  {
   "cell_type": "code",
   "execution_count": 31,
   "metadata": {},
   "outputs": [],
   "source": [
    "X_valid_preprocessed_dataframe = sm.add_constant(X_valid_preprocessed_dataframe)"
   ]
  },
  {
   "cell_type": "code",
   "execution_count": null,
   "metadata": {},
   "outputs": [],
   "source": [
    "y_predict = ols.predict(X_valid_preprocessed_dataframe)"
   ]
  },
  {
   "cell_type": "markdown",
   "metadata": {},
   "source": [
    "Finding R-squared and Adjusted R-squared for test set"
   ]
  },
  {
   "cell_type": "code",
   "execution_count": 42,
   "metadata": {},
   "outputs": [
    {
     "data": {
      "text/plain": [
       "0.7887696152480207"
      ]
     },
     "execution_count": 42,
     "metadata": {},
     "output_type": "execute_result"
    }
   ],
   "source": [
    "from sklearn.metrics import r2_score\n",
    "\n",
    "r2_score(y_valid, y_predict)"
   ]
  },
  {
   "cell_type": "code",
   "execution_count": 44,
   "metadata": {},
   "outputs": [
    {
     "data": {
      "text/plain": [
       "0.8132909504370783"
      ]
     },
     "execution_count": 44,
     "metadata": {},
     "output_type": "execute_result"
    }
   ],
   "source": [
    "# Adjusted R-squared\n",
    "\n",
    "n, p = X_valid.shape\n",
    "\n",
    "1 - (1 - r2_score(y_valid, y_predict) * (n - 1) / (n - p - 1))"
   ]
  },
  {
   "cell_type": "code",
   "execution_count": 47,
   "metadata": {},
   "outputs": [
    {
     "data": {
      "image/png": "[encoded data removed]",
      "text/plain": [
       "<Figure size 1500x800 with 1 Axes>"
      ]
     },
     "metadata": {},
     "output_type": "display_data"
    }
   ],
   "source": [
    "plt.figure(figsize=(15, 8))\n",
    "plt.scatter(y_valid, y_predict, color=\"blue\")\n",
    "plt.title(\"y_valid vs y_predict\", fontsize=20)  # Plot heading\n",
    "plt.xlabel(\"y_valid\", fontsize=18)  # X-label\n",
    "plt.ylabel(\"y_predict\", fontsize=16)  # Y-label\n",
    "plt.show()"
   ]
  },
  {
   "cell_type": "code",
   "execution_count": 48,
   "metadata": {},
   "outputs": [
    {
     "data": {
      "image/png": "[encoded data removed]",
      "text/plain": [
       "<Figure size 1400x800 with 1 Axes>"
      ]
     },
     "metadata": {},
     "output_type": "display_data"
    }
   ],
   "source": [
    "# Regression plot\n",
    "plt.figure(figsize=(14, 8))\n",
    "sns.regplot(\n",
    "    x=y_valid,\n",
    "    y=y_predict,\n",
    "    ci=68,\n",
    "    fit_reg=True,\n",
    "    scatter_kws={\"color\": \"blue\"},\n",
    "    line_kws={\"color\": \"red\"},\n",
    ")\n",
    "\n",
    "plt.title(\"y_valid vs y_predict\", fontsize=20)  # Plot heading\n",
    "plt.xlabel(\"y_valid\", fontsize=18)  # X-label\n",
    "plt.ylabel(\"y_predict\", fontsize=16)  # Y-label\n",
    "plt.show()"
   ]
  },
  {
   "cell_type": "code",
   "execution_count": null,
   "metadata": {},
   "outputs": [],
   "source": []
  },
  {
   "cell_type": "code",
   "execution_count": null,
   "metadata": {},
   "outputs": [],
   "source": []
  },
  {
   "cell_type": "code",
   "execution_count": null,
   "metadata": {},
   "outputs": [],
   "source": []
  }
 ],
 "metadata": {
  "kernelspec": {
   "display_name": "handsonds",
   "language": "python",
   "name": "python3"
  },
  "language_info": {
   "codemirror_mode": {
    "name": "ipython",
    "version": 3
   },
   "file_extension": ".py",
   "mimetype": "text/x-python",
   "name": "python",
   "nbconvert_exporter": "python",
   "pygments_lexer": "ipython3",
   "version": "3.11.5"
  }
 },
 "nbformat": 4,
 "nbformat_minor": 2
}
