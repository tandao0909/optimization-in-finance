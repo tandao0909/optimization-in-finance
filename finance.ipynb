{
 "cells": [
  {
   "cell_type": "markdown",
   "metadata": {},
   "source": [
    "First we need to read the data. I have downloaded the data and unzip into an `insurance.csv` file. You can find the original data at https://www.kaggle.com/datasets/mirichoi0218/insurance. Here are the meaning of each column, in case you need a quick reference:\n",
    "- age: The number of age\n",
    "- sex: Gender\n",
    "- bmi: Body mass index, measure using the formula (kg / m ^ 2), where kg is the weight in kilogram, and m is the height in meter.\n",
    "- children: The number of children covered by health insurance / the number of dependent\n",
    "- smoker: Smoking or not\n",
    "- region: The living place in the US, consists of northeast, southeast, northwest, southwest.\n",
    "- charges: Individual medical cost billed by health insurance."
   ]
  },
  {
   "cell_type": "code",
   "execution_count": 1,
   "metadata": {},
   "outputs": [],
   "source": [
    "import numpy as np\n",
    "import pandas as pd\n",
    "\n",
    "from sklearn.pipeline import make_pipeline\n",
    "from sklearn.impute import SimpleImputer\n",
    "from sklearn.preprocessing import OneHotEncoder, StandardScaler\n",
    "from sklearn.compose import make_column_selector, make_column_transformer\n",
    "\n",
    "from scipy.stats import t\n",
    "\n",
    "data = pd.read_csv(\"insurance.csv\")"
   ]
  },
  {
   "cell_type": "markdown",
   "metadata": {},
   "source": [
    "We need to check if there's any missing or NA values."
   ]
  },
  {
   "cell_type": "code",
   "execution_count": 2,
   "metadata": {},
   "outputs": [
    {
     "data": {
      "text/plain": [
       "age         False\n",
       "sex         False\n",
       "bmi         False\n",
       "children    False\n",
       "smoker      False\n",
       "region      False\n",
       "charges     False\n",
       "dtype: bool"
      ]
     },
     "execution_count": 2,
     "metadata": {},
     "output_type": "execute_result"
    }
   ],
   "source": [
    "data.isnull().any()"
   ]
  },
  {
   "cell_type": "markdown",
   "metadata": {},
   "source": [
    "So there's no missing data.\n",
    "\n",
    "Need, we will see some descriptive statistics of the dataset.\n",
    "\n",
    "First, the numerical attributes."
   ]
  },
  {
   "cell_type": "code",
   "execution_count": 3,
   "metadata": {},
   "outputs": [
    {
     "data": {
      "text/html": [
       "<div>\n",
       "<style scoped>\n",
       "    .dataframe tbody tr th:only-of-type {\n",
       "        vertical-align: middle;\n",
       "    }\n",
       "\n",
       "    .dataframe tbody tr th {\n",
       "        vertical-align: top;\n",
       "    }\n",
       "\n",
       "    .dataframe thead th {\n",
       "        text-align: right;\n",
       "    }\n",
       "</style>\n",
       "<table border=\"1\" class=\"dataframe\">\n",
       "  <thead>\n",
       "    <tr style=\"text-align: right;\">\n",
       "      <th></th>\n",
       "      <th>age</th>\n",
       "      <th>bmi</th>\n",
       "      <th>children</th>\n",
       "      <th>charges</th>\n",
       "    </tr>\n",
       "  </thead>\n",
       "  <tbody>\n",
       "    <tr>\n",
       "      <th>count</th>\n",
       "      <td>1338.000000</td>\n",
       "      <td>1338.000000</td>\n",
       "      <td>1338.000000</td>\n",
       "      <td>1338.000000</td>\n",
       "    </tr>\n",
       "    <tr>\n",
       "      <th>mean</th>\n",
       "      <td>39.207025</td>\n",
       "      <td>30.663397</td>\n",
       "      <td>1.094918</td>\n",
       "      <td>13270.422265</td>\n",
       "    </tr>\n",
       "    <tr>\n",
       "      <th>std</th>\n",
       "      <td>14.049960</td>\n",
       "      <td>6.098187</td>\n",
       "      <td>1.205493</td>\n",
       "      <td>12110.011237</td>\n",
       "    </tr>\n",
       "    <tr>\n",
       "      <th>min</th>\n",
       "      <td>18.000000</td>\n",
       "      <td>15.960000</td>\n",
       "      <td>0.000000</td>\n",
       "      <td>1121.873900</td>\n",
       "    </tr>\n",
       "    <tr>\n",
       "      <th>25%</th>\n",
       "      <td>27.000000</td>\n",
       "      <td>26.296250</td>\n",
       "      <td>0.000000</td>\n",
       "      <td>4740.287150</td>\n",
       "    </tr>\n",
       "    <tr>\n",
       "      <th>50%</th>\n",
       "      <td>39.000000</td>\n",
       "      <td>30.400000</td>\n",
       "      <td>1.000000</td>\n",
       "      <td>9382.033000</td>\n",
       "    </tr>\n",
       "    <tr>\n",
       "      <th>75%</th>\n",
       "      <td>51.000000</td>\n",
       "      <td>34.693750</td>\n",
       "      <td>2.000000</td>\n",
       "      <td>16639.912515</td>\n",
       "    </tr>\n",
       "    <tr>\n",
       "      <th>max</th>\n",
       "      <td>64.000000</td>\n",
       "      <td>53.130000</td>\n",
       "      <td>5.000000</td>\n",
       "      <td>63770.428010</td>\n",
       "    </tr>\n",
       "  </tbody>\n",
       "</table>\n",
       "</div>"
      ],
      "text/plain": [
       "               age          bmi     children       charges\n",
       "count  1338.000000  1338.000000  1338.000000   1338.000000\n",
       "mean     39.207025    30.663397     1.094918  13270.422265\n",
       "std      14.049960     6.098187     1.205493  12110.011237\n",
       "min      18.000000    15.960000     0.000000   1121.873900\n",
       "25%      27.000000    26.296250     0.000000   4740.287150\n",
       "50%      39.000000    30.400000     1.000000   9382.033000\n",
       "75%      51.000000    34.693750     2.000000  16639.912515\n",
       "max      64.000000    53.130000     5.000000  63770.428010"
      ]
     },
     "execution_count": 3,
     "metadata": {},
     "output_type": "execute_result"
    }
   ],
   "source": [
    "data.describe()"
   ]
  },
  {
   "cell_type": "markdown",
   "metadata": {},
   "source": [
    "Then the categorical attributes."
   ]
  },
  {
   "cell_type": "code",
   "execution_count": 4,
   "metadata": {},
   "outputs": [
    {
     "data": {
      "text/html": [
       "<div>\n",
       "<style scoped>\n",
       "    .dataframe tbody tr th:only-of-type {\n",
       "        vertical-align: middle;\n",
       "    }\n",
       "\n",
       "    .dataframe tbody tr th {\n",
       "        vertical-align: top;\n",
       "    }\n",
       "\n",
       "    .dataframe thead th {\n",
       "        text-align: right;\n",
       "    }\n",
       "</style>\n",
       "<table border=\"1\" class=\"dataframe\">\n",
       "  <thead>\n",
       "    <tr style=\"text-align: right;\">\n",
       "      <th></th>\n",
       "      <th>sex</th>\n",
       "      <th>smoker</th>\n",
       "      <th>region</th>\n",
       "    </tr>\n",
       "  </thead>\n",
       "  <tbody>\n",
       "    <tr>\n",
       "      <th>count</th>\n",
       "      <td>1338</td>\n",
       "      <td>1338</td>\n",
       "      <td>1338</td>\n",
       "    </tr>\n",
       "    <tr>\n",
       "      <th>unique</th>\n",
       "      <td>2</td>\n",
       "      <td>2</td>\n",
       "      <td>4</td>\n",
       "    </tr>\n",
       "    <tr>\n",
       "      <th>top</th>\n",
       "      <td>male</td>\n",
       "      <td>no</td>\n",
       "      <td>southeast</td>\n",
       "    </tr>\n",
       "    <tr>\n",
       "      <th>freq</th>\n",
       "      <td>676</td>\n",
       "      <td>1064</td>\n",
       "      <td>364</td>\n",
       "    </tr>\n",
       "  </tbody>\n",
       "</table>\n",
       "</div>"
      ],
      "text/plain": [
       "         sex smoker     region\n",
       "count   1338   1338       1338\n",
       "unique     2      2          4\n",
       "top     male     no  southeast\n",
       "freq     676   1064        364"
      ]
     },
     "execution_count": 4,
     "metadata": {},
     "output_type": "execute_result"
    }
   ],
   "source": [
    "data.describe(include=\"object\")"
   ]
  },
  {
   "cell_type": "markdown",
   "metadata": {},
   "source": [
    "And plot all numeric features as histograms."
   ]
  },
  {
   "cell_type": "code",
   "execution_count": 5,
   "metadata": {},
   "outputs": [
    {
     "data": {
      "text/plain": [
       "array([[<Axes: title={'center': 'age'}>, <Axes: title={'center': 'bmi'}>],\n",
       "       [<Axes: title={'center': 'children'}>,\n",
       "        <Axes: title={'center': 'charges'}>]], dtype=object)"
      ]
     },
     "execution_count": 5,
     "metadata": {},
     "output_type": "execute_result"
    },
    {
     "data": {
      "image/png": "[encoded data removed]",
      "text/plain": [
       "<Figure size 640x480 with 4 Axes>"
      ]
     },
     "metadata": {},
     "output_type": "display_data"
    }
   ],
   "source": [
    "data.hist()"
   ]
  },
  {
   "cell_type": "markdown",
   "metadata": {},
   "source": [
    "But enough data snipping! We now need to split the dataset into training and validation set, and put the validation set aside. Since there are 1388 records, I will use 200, which is about 21.61% of the dataset as the validation set."
   ]
  },
  {
   "cell_type": "code",
   "execution_count": 6,
   "metadata": {},
   "outputs": [],
   "source": [
    "from sklearn.model_selection import train_test_split\n",
    "\n",
    "train, valid = train_test_split(data, test_size=200, random_state=42)"
   ]
  },
  {
   "cell_type": "markdown",
   "metadata": {},
   "source": [
    "Here I define two *pipeline*, which are used to act as convenient functions to process input features."
   ]
  },
  {
   "cell_type": "code",
   "execution_count": 7,
   "metadata": {},
   "outputs": [],
   "source": [
    "num_pipeline = make_pipeline(SimpleImputer(strategy=\"mean\"), StandardScaler())\n",
    "\n",
    "cat_pipeline = make_pipeline(\n",
    "    SimpleImputer(strategy=\"most_frequent\"), OneHotEncoder(handle_unknown=\"ignore\")\n",
    ")\n",
    "\n",
    "preprocessing = make_column_transformer(\n",
    "    (num_pipeline, make_column_selector(dtype_include=np.number)),\n",
    "    (cat_pipeline, make_column_selector(dtype_include=object)),\n",
    ")"
   ]
  },
  {
   "cell_type": "markdown",
   "metadata": {},
   "source": [
    "We preprocess the train set."
   ]
  },
  {
   "cell_type": "code",
   "execution_count": 8,
   "metadata": {},
   "outputs": [],
   "source": [
    "train_preprocessed = preprocessing.fit_transform(train)"
   ]
  },
  {
   "cell_type": "markdown",
   "metadata": {},
   "source": [
    "Convert to a `pd.DataFrame` for the sake of visualization."
   ]
  },
  {
   "cell_type": "code",
   "execution_count": 9,
   "metadata": {},
   "outputs": [
    {
     "data": {
      "text/html": [
       "<div>\n",
       "<style scoped>\n",
       "    .dataframe tbody tr th:only-of-type {\n",
       "        vertical-align: middle;\n",
       "    }\n",
       "\n",
       "    .dataframe tbody tr th {\n",
       "        vertical-align: top;\n",
       "    }\n",
       "\n",
       "    .dataframe thead th {\n",
       "        text-align: right;\n",
       "    }\n",
       "</style>\n",
       "<table border=\"1\" class=\"dataframe\">\n",
       "  <thead>\n",
       "    <tr style=\"text-align: right;\">\n",
       "      <th></th>\n",
       "      <th>pipeline-1__age</th>\n",
       "      <th>pipeline-1__bmi</th>\n",
       "      <th>pipeline-1__children</th>\n",
       "      <th>pipeline-1__charges</th>\n",
       "      <th>pipeline-2__sex_female</th>\n",
       "      <th>pipeline-2__sex_male</th>\n",
       "      <th>pipeline-2__smoker_no</th>\n",
       "      <th>pipeline-2__smoker_yes</th>\n",
       "      <th>pipeline-2__region_northeast</th>\n",
       "      <th>pipeline-2__region_northwest</th>\n",
       "      <th>pipeline-2__region_southeast</th>\n",
       "      <th>pipeline-2__region_southwest</th>\n",
       "    </tr>\n",
       "  </thead>\n",
       "  <tbody>\n",
       "    <tr>\n",
       "      <th>1137</th>\n",
       "      <td>-0.940673</td>\n",
       "      <td>-1.357443</td>\n",
       "      <td>-0.900701</td>\n",
       "      <td>-0.837349</td>\n",
       "      <td>1.0</td>\n",
       "      <td>0.0</td>\n",
       "      <td>1.0</td>\n",
       "      <td>0.0</td>\n",
       "      <td>0.0</td>\n",
       "      <td>1.0</td>\n",
       "      <td>0.0</td>\n",
       "      <td>0.0</td>\n",
       "    </tr>\n",
       "    <tr>\n",
       "      <th>331</th>\n",
       "      <td>0.906952</td>\n",
       "      <td>-0.519801</td>\n",
       "      <td>-0.900701</td>\n",
       "      <td>0.921679</td>\n",
       "      <td>0.0</td>\n",
       "      <td>1.0</td>\n",
       "      <td>0.0</td>\n",
       "      <td>1.0</td>\n",
       "      <td>0.0</td>\n",
       "      <td>1.0</td>\n",
       "      <td>0.0</td>\n",
       "      <td>0.0</td>\n",
       "    </tr>\n",
       "    <tr>\n",
       "      <th>796</th>\n",
       "      <td>-0.656423</td>\n",
       "      <td>2.233149</td>\n",
       "      <td>0.745882</td>\n",
       "      <td>-0.746992</td>\n",
       "      <td>0.0</td>\n",
       "      <td>1.0</td>\n",
       "      <td>1.0</td>\n",
       "      <td>0.0</td>\n",
       "      <td>0.0</td>\n",
       "      <td>0.0</td>\n",
       "      <td>1.0</td>\n",
       "      <td>0.0</td>\n",
       "    </tr>\n",
       "    <tr>\n",
       "      <th>1039</th>\n",
       "      <td>-1.438110</td>\n",
       "      <td>-0.535313</td>\n",
       "      <td>0.745882</td>\n",
       "      <td>0.764162</td>\n",
       "      <td>0.0</td>\n",
       "      <td>1.0</td>\n",
       "      <td>1.0</td>\n",
       "      <td>0.0</td>\n",
       "      <td>0.0</td>\n",
       "      <td>1.0</td>\n",
       "      <td>0.0</td>\n",
       "      <td>0.0</td>\n",
       "    </tr>\n",
       "    <tr>\n",
       "      <th>261</th>\n",
       "      <td>-1.367048</td>\n",
       "      <td>-0.604709</td>\n",
       "      <td>-0.077410</td>\n",
       "      <td>0.315778</td>\n",
       "      <td>1.0</td>\n",
       "      <td>0.0</td>\n",
       "      <td>0.0</td>\n",
       "      <td>1.0</td>\n",
       "      <td>0.0</td>\n",
       "      <td>0.0</td>\n",
       "      <td>1.0</td>\n",
       "      <td>0.0</td>\n",
       "    </tr>\n",
       "  </tbody>\n",
       "</table>\n",
       "</div>"
      ],
      "text/plain": [
       "      pipeline-1__age  pipeline-1__bmi  pipeline-1__children  \\\n",
       "1137        -0.940673        -1.357443             -0.900701   \n",
       "331          0.906952        -0.519801             -0.900701   \n",
       "796         -0.656423         2.233149              0.745882   \n",
       "1039        -1.438110        -0.535313              0.745882   \n",
       "261         -1.367048        -0.604709             -0.077410   \n",
       "\n",
       "      pipeline-1__charges  pipeline-2__sex_female  pipeline-2__sex_male  \\\n",
       "1137            -0.837349                     1.0                   0.0   \n",
       "331              0.921679                     0.0                   1.0   \n",
       "796             -0.746992                     0.0                   1.0   \n",
       "1039             0.764162                     0.0                   1.0   \n",
       "261              0.315778                     1.0                   0.0   \n",
       "\n",
       "      pipeline-2__smoker_no  pipeline-2__smoker_yes  \\\n",
       "1137                    1.0                     0.0   \n",
       "331                     0.0                     1.0   \n",
       "796                     1.0                     0.0   \n",
       "1039                    1.0                     0.0   \n",
       "261                     0.0                     1.0   \n",
       "\n",
       "      pipeline-2__region_northeast  pipeline-2__region_northwest  \\\n",
       "1137                           0.0                           1.0   \n",
       "331                            0.0                           1.0   \n",
       "796                            0.0                           0.0   \n",
       "1039                           0.0                           1.0   \n",
       "261                            0.0                           0.0   \n",
       "\n",
       "      pipeline-2__region_southeast  pipeline-2__region_southwest  \n",
       "1137                           0.0                           0.0  \n",
       "331                            0.0                           0.0  \n",
       "796                            1.0                           0.0  \n",
       "1039                           0.0                           0.0  \n",
       "261                            1.0                           0.0  "
      ]
     },
     "execution_count": 9,
     "metadata": {},
     "output_type": "execute_result"
    }
   ],
   "source": [
    "train_preprocessed_dataframe = pd.DataFrame(\n",
    "    train_preprocessed,\n",
    "    index=train.index,\n",
    "    columns=preprocessing.get_feature_names_out(),\n",
    ")\n",
    "train_preprocessed_dataframe.head()"
   ]
  },
  {
   "cell_type": "markdown",
   "metadata": {},
   "source": [
    "And check the corelation of each feature with regard to the output feature."
   ]
  },
  {
   "cell_type": "code",
   "execution_count": 10,
   "metadata": {},
   "outputs": [
    {
     "data": {
      "text/plain": [
       "pipeline-1__age                 0.286336\n",
       "pipeline-1__bmi                 0.200900\n",
       "pipeline-1__children            0.070097\n",
       "pipeline-1__charges             1.000000\n",
       "pipeline-2__sex_female         -0.056761\n",
       "pipeline-2__sex_male            0.056761\n",
       "pipeline-2__smoker_no          -0.780530\n",
       "pipeline-2__smoker_yes          0.780530\n",
       "pipeline-2__region_northeast   -0.003090\n",
       "pipeline-2__region_northwest   -0.050548\n",
       "pipeline-2__region_southeast    0.083205\n",
       "pipeline-2__region_southwest   -0.032565\n",
       "Name: pipeline-1__charges, dtype: float64"
      ]
     },
     "execution_count": 10,
     "metadata": {},
     "output_type": "execute_result"
    }
   ],
   "source": [
    "train_preprocessed_dataframe.corr(\"pearson\")[\"pipeline-1__charges\"]"
   ]
  },
  {
   "cell_type": "markdown",
   "metadata": {},
   "source": [
    "According to the corelation, the variable with the highest corelation with `charges` is `smoker`, next is `age`, then `bmi`. All other variables don't have noticeable influence on `charges` (correlation < 0.1).\n",
    "\n",
    "Anh now, we can train a Linear Regression model."
   ]
  },
  {
   "cell_type": "code",
   "execution_count": 11,
   "metadata": {},
   "outputs": [
    {
     "data": {
      "text/html": [
       "<style>#sk-container-id-1 {color: black;}#sk-container-id-1 pre{padding: 0;}#sk-container-id-1 div.sk-toggleable {background-color: white;}#sk-container-id-1 label.sk-toggleable__label {cursor: pointer;display: block;width: 100%;margin-bottom: 0;padding: 0.3em;box-sizing: border-box;text-align: center;}#sk-container-id-1 label.sk-toggleable__label-arrow:before {content: \"▸\";float: left;margin-right: 0.25em;color: #696969;}#sk-container-id-1 label.sk-toggleable__label-arrow:hover:before {color: black;}#sk-container-id-1 div.sk-estimator:hover label.sk-toggleable__label-arrow:before {color: black;}#sk-container-id-1 div.sk-toggleable__content {max-height: 0;max-width: 0;overflow: hidden;text-align: left;background-color: #f0f8ff;}#sk-container-id-1 div.sk-toggleable__content pre {margin: 0.2em;color: black;border-radius: 0.25em;background-color: #f0f8ff;}#sk-container-id-1 input.sk-toggleable__control:checked~div.sk-toggleable__content {max-height: 200px;max-width: 100%;overflow: auto;}#sk-container-id-1 input.sk-toggleable__control:checked~label.sk-toggleable__label-arrow:before {content: \"▾\";}#sk-container-id-1 div.sk-estimator input.sk-toggleable__control:checked~label.sk-toggleable__label {background-color: #d4ebff;}#sk-container-id-1 div.sk-label input.sk-toggleable__control:checked~label.sk-toggleable__label {background-color: #d4ebff;}#sk-container-id-1 input.sk-hidden--visually {border: 0;clip: rect(1px 1px 1px 1px);clip: rect(1px, 1px, 1px, 1px);height: 1px;margin: -1px;overflow: hidden;padding: 0;position: absolute;width: 1px;}#sk-container-id-1 div.sk-estimator {font-family: monospace;background-color: #f0f8ff;border: 1px dotted black;border-radius: 0.25em;box-sizing: border-box;margin-bottom: 0.5em;}#sk-container-id-1 div.sk-estimator:hover {background-color: #d4ebff;}#sk-container-id-1 div.sk-parallel-item::after {content: \"\";width: 100%;border-bottom: 1px solid gray;flex-grow: 1;}#sk-container-id-1 div.sk-label:hover label.sk-toggleable__label {background-color: #d4ebff;}#sk-container-id-1 div.sk-serial::before {content: \"\";position: absolute;border-left: 1px solid gray;box-sizing: border-box;top: 0;bottom: 0;left: 50%;z-index: 0;}#sk-container-id-1 div.sk-serial {display: flex;flex-direction: column;align-items: center;background-color: white;padding-right: 0.2em;padding-left: 0.2em;position: relative;}#sk-container-id-1 div.sk-item {position: relative;z-index: 1;}#sk-container-id-1 div.sk-parallel {display: flex;align-items: stretch;justify-content: center;background-color: white;position: relative;}#sk-container-id-1 div.sk-item::before, #sk-container-id-1 div.sk-parallel-item::before {content: \"\";position: absolute;border-left: 1px solid gray;box-sizing: border-box;top: 0;bottom: 0;left: 50%;z-index: -1;}#sk-container-id-1 div.sk-parallel-item {display: flex;flex-direction: column;z-index: 1;position: relative;background-color: white;}#sk-container-id-1 div.sk-parallel-item:first-child::after {align-self: flex-end;width: 50%;}#sk-container-id-1 div.sk-parallel-item:last-child::after {align-self: flex-start;width: 50%;}#sk-container-id-1 div.sk-parallel-item:only-child::after {width: 0;}#sk-container-id-1 div.sk-dashed-wrapped {border: 1px dashed gray;margin: 0 0.4em 0.5em 0.4em;box-sizing: border-box;padding-bottom: 0.4em;background-color: white;}#sk-container-id-1 div.sk-label label {font-family: monospace;font-weight: bold;display: inline-block;line-height: 1.2em;}#sk-container-id-1 div.sk-label-container {text-align: center;}#sk-container-id-1 div.sk-container {/* jupyter's `normalize.less` sets `[hidden] { display: none; }` but bootstrap.min.css set `[hidden] { display: none !important; }` so we also need the `!important` here to be able to override the default hidden behavior on the sphinx rendered scikit-learn.org. See: https://github.com/scikit-learn/scikit-learn/issues/21755 */display: inline-block !important;position: relative;}#sk-container-id-1 div.sk-text-repr-fallback {display: none;}</style><div id=\"sk-container-id-1\" class=\"sk-top-container\"><div class=\"sk-text-repr-fallback\"><pre>Pipeline(steps=[(&#x27;columntransformer&#x27;,\n",
       "                 ColumnTransformer(transformers=[(&#x27;pipeline-1&#x27;,\n",
       "                                                  Pipeline(steps=[(&#x27;simpleimputer&#x27;,\n",
       "                                                                   SimpleImputer()),\n",
       "                                                                  (&#x27;standardscaler&#x27;,\n",
       "                                                                   StandardScaler())]),\n",
       "                                                  &lt;sklearn.compose._column_transformer.make_column_selector object at 0x72c7ed969550&gt;),\n",
       "                                                 (&#x27;pipeline-2&#x27;,\n",
       "                                                  Pipeline(steps=[(&#x27;simpleimputer&#x27;,\n",
       "                                                                   SimpleImputer(strategy=&#x27;most_frequent&#x27;)),\n",
       "                                                                  (&#x27;onehotencoder&#x27;,\n",
       "                                                                   OneHotEncoder(handle_unknown=&#x27;ignore&#x27;))]),\n",
       "                                                  &lt;sklearn.compose._column_transformer.make_column_selector object at 0x72c7ed8cc310&gt;)])),\n",
       "                (&#x27;linearregression&#x27;, LinearRegression())])</pre><b>In a Jupyter environment, please rerun this cell to show the HTML representation or trust the notebook. <br />On GitHub, the HTML representation is unable to render, please try loading this page with nbviewer.org.</b></div><div class=\"sk-container\" hidden><div class=\"sk-item sk-dashed-wrapped\"><div class=\"sk-label-container\"><div class=\"sk-label sk-toggleable\"><input class=\"sk-toggleable__control sk-hidden--visually\" id=\"sk-estimator-id-1\" type=\"checkbox\" ><label for=\"sk-estimator-id-1\" class=\"sk-toggleable__label sk-toggleable__label-arrow\">Pipeline</label><div class=\"sk-toggleable__content\"><pre>Pipeline(steps=[(&#x27;columntransformer&#x27;,\n",
       "                 ColumnTransformer(transformers=[(&#x27;pipeline-1&#x27;,\n",
       "                                                  Pipeline(steps=[(&#x27;simpleimputer&#x27;,\n",
       "                                                                   SimpleImputer()),\n",
       "                                                                  (&#x27;standardscaler&#x27;,\n",
       "                                                                   StandardScaler())]),\n",
       "                                                  &lt;sklearn.compose._column_transformer.make_column_selector object at 0x72c7ed969550&gt;),\n",
       "                                                 (&#x27;pipeline-2&#x27;,\n",
       "                                                  Pipeline(steps=[(&#x27;simpleimputer&#x27;,\n",
       "                                                                   SimpleImputer(strategy=&#x27;most_frequent&#x27;)),\n",
       "                                                                  (&#x27;onehotencoder&#x27;,\n",
       "                                                                   OneHotEncoder(handle_unknown=&#x27;ignore&#x27;))]),\n",
       "                                                  &lt;sklearn.compose._column_transformer.make_column_selector object at 0x72c7ed8cc310&gt;)])),\n",
       "                (&#x27;linearregression&#x27;, LinearRegression())])</pre></div></div></div><div class=\"sk-serial\"><div class=\"sk-item sk-dashed-wrapped\"><div class=\"sk-label-container\"><div class=\"sk-label sk-toggleable\"><input class=\"sk-toggleable__control sk-hidden--visually\" id=\"sk-estimator-id-2\" type=\"checkbox\" ><label for=\"sk-estimator-id-2\" class=\"sk-toggleable__label sk-toggleable__label-arrow\">columntransformer: ColumnTransformer</label><div class=\"sk-toggleable__content\"><pre>ColumnTransformer(transformers=[(&#x27;pipeline-1&#x27;,\n",
       "                                 Pipeline(steps=[(&#x27;simpleimputer&#x27;,\n",
       "                                                  SimpleImputer()),\n",
       "                                                 (&#x27;standardscaler&#x27;,\n",
       "                                                  StandardScaler())]),\n",
       "                                 &lt;sklearn.compose._column_transformer.make_column_selector object at 0x72c7ed969550&gt;),\n",
       "                                (&#x27;pipeline-2&#x27;,\n",
       "                                 Pipeline(steps=[(&#x27;simpleimputer&#x27;,\n",
       "                                                  SimpleImputer(strategy=&#x27;most_frequent&#x27;)),\n",
       "                                                 (&#x27;onehotencoder&#x27;,\n",
       "                                                  OneHotEncoder(handle_unknown=&#x27;ignore&#x27;))]),\n",
       "                                 &lt;sklearn.compose._column_transformer.make_column_selector object at 0x72c7ed8cc310&gt;)])</pre></div></div></div><div class=\"sk-parallel\"><div class=\"sk-parallel-item\"><div class=\"sk-item\"><div class=\"sk-label-container\"><div class=\"sk-label sk-toggleable\"><input class=\"sk-toggleable__control sk-hidden--visually\" id=\"sk-estimator-id-3\" type=\"checkbox\" ><label for=\"sk-estimator-id-3\" class=\"sk-toggleable__label sk-toggleable__label-arrow\">pipeline-1</label><div class=\"sk-toggleable__content\"><pre>&lt;sklearn.compose._column_transformer.make_column_selector object at 0x72c7ed969550&gt;</pre></div></div></div><div class=\"sk-serial\"><div class=\"sk-item\"><div class=\"sk-serial\"><div class=\"sk-item\"><div class=\"sk-estimator sk-toggleable\"><input class=\"sk-toggleable__control sk-hidden--visually\" id=\"sk-estimator-id-4\" type=\"checkbox\" ><label for=\"sk-estimator-id-4\" class=\"sk-toggleable__label sk-toggleable__label-arrow\">SimpleImputer</label><div class=\"sk-toggleable__content\"><pre>SimpleImputer()</pre></div></div></div><div class=\"sk-item\"><div class=\"sk-estimator sk-toggleable\"><input class=\"sk-toggleable__control sk-hidden--visually\" id=\"sk-estimator-id-5\" type=\"checkbox\" ><label for=\"sk-estimator-id-5\" class=\"sk-toggleable__label sk-toggleable__label-arrow\">StandardScaler</label><div class=\"sk-toggleable__content\"><pre>StandardScaler()</pre></div></div></div></div></div></div></div></div><div class=\"sk-parallel-item\"><div class=\"sk-item\"><div class=\"sk-label-container\"><div class=\"sk-label sk-toggleable\"><input class=\"sk-toggleable__control sk-hidden--visually\" id=\"sk-estimator-id-6\" type=\"checkbox\" ><label for=\"sk-estimator-id-6\" class=\"sk-toggleable__label sk-toggleable__label-arrow\">pipeline-2</label><div class=\"sk-toggleable__content\"><pre>&lt;sklearn.compose._column_transformer.make_column_selector object at 0x72c7ed8cc310&gt;</pre></div></div></div><div class=\"sk-serial\"><div class=\"sk-item\"><div class=\"sk-serial\"><div class=\"sk-item\"><div class=\"sk-estimator sk-toggleable\"><input class=\"sk-toggleable__control sk-hidden--visually\" id=\"sk-estimator-id-7\" type=\"checkbox\" ><label for=\"sk-estimator-id-7\" class=\"sk-toggleable__label sk-toggleable__label-arrow\">SimpleImputer</label><div class=\"sk-toggleable__content\"><pre>SimpleImputer(strategy=&#x27;most_frequent&#x27;)</pre></div></div></div><div class=\"sk-item\"><div class=\"sk-estimator sk-toggleable\"><input class=\"sk-toggleable__control sk-hidden--visually\" id=\"sk-estimator-id-8\" type=\"checkbox\" ><label for=\"sk-estimator-id-8\" class=\"sk-toggleable__label sk-toggleable__label-arrow\">OneHotEncoder</label><div class=\"sk-toggleable__content\"><pre>OneHotEncoder(handle_unknown=&#x27;ignore&#x27;)</pre></div></div></div></div></div></div></div></div></div></div><div class=\"sk-item\"><div class=\"sk-estimator sk-toggleable\"><input class=\"sk-toggleable__control sk-hidden--visually\" id=\"sk-estimator-id-9\" type=\"checkbox\" ><label for=\"sk-estimator-id-9\" class=\"sk-toggleable__label sk-toggleable__label-arrow\">LinearRegression</label><div class=\"sk-toggleable__content\"><pre>LinearRegression()</pre></div></div></div></div></div></div></div>"
      ],
      "text/plain": [
       "Pipeline(steps=[('columntransformer',\n",
       "                 ColumnTransformer(transformers=[('pipeline-1',\n",
       "                                                  Pipeline(steps=[('simpleimputer',\n",
       "                                                                   SimpleImputer()),\n",
       "                                                                  ('standardscaler',\n",
       "                                                                   StandardScaler())]),\n",
       "                                                  <sklearn.compose._column_transformer.make_column_selector object at 0x72c7ed969550>),\n",
       "                                                 ('pipeline-2',\n",
       "                                                  Pipeline(steps=[('simpleimputer',\n",
       "                                                                   SimpleImputer(strategy='most_frequent')),\n",
       "                                                                  ('onehotencoder',\n",
       "                                                                   OneHotEncoder(handle_unknown='ignore'))]),\n",
       "                                                  <sklearn.compose._column_transformer.make_column_selector object at 0x72c7ed8cc310>)])),\n",
       "                ('linearregression', LinearRegression())])"
      ]
     },
     "execution_count": 11,
     "metadata": {},
     "output_type": "execute_result"
    }
   ],
   "source": [
    "from sklearn.linear_model import LinearRegression\n",
    "\n",
    "X_train = train.drop(\"charges\", axis=1)\n",
    "y_train = train[\"charges\"]\n",
    "lin_reg = make_pipeline(preprocessing, LinearRegression())\n",
    "lin_reg.fit(X_train, y_train)"
   ]
  },
  {
   "cell_type": "markdown",
   "metadata": {},
   "source": [
    "Let's have a look at its coefficients and intercept values."
   ]
  },
  {
   "cell_type": "code",
   "execution_count": 12,
   "metadata": {},
   "outputs": [
    {
     "data": {
      "text/plain": [
       "(array([  3659.54122619,   1994.81298897,    511.85393327,     66.15291417,\n",
       "           -66.15291417, -11889.34815423,  11889.34815423,    402.18493633,\n",
       "            73.93161706,   -219.19002854,   -256.92652485]),\n",
       " 20326.876956193955)"
      ]
     },
     "execution_count": 12,
     "metadata": {},
     "output_type": "execute_result"
    }
   ],
   "source": [
    "lin_reg_params = lin_reg.get_params()[\"linearregression\"]\n",
    "lin_reg_params.coef_, lin_reg_params.intercept_"
   ]
  },
  {
   "cell_type": "markdown",
   "metadata": {},
   "source": [
    "And yes, the linear regression model amplifies our thinking.\n",
    "\n",
    "Let's look at its error, specifically its root mean squared error (the square root of MSE)."
   ]
  },
  {
   "cell_type": "code",
   "execution_count": 13,
   "metadata": {},
   "outputs": [
    {
     "data": {
      "text/plain": [
       "6125.35415844748"
      ]
     },
     "execution_count": 13,
     "metadata": {},
     "output_type": "execute_result"
    }
   ],
   "source": [
    "from sklearn.metrics import mean_squared_error\n",
    "\n",
    "y_predict = lin_reg.predict(X_train)\n",
    "lin_rmse = mean_squared_error(y_train, y_predict, squared=False)\n",
    "lin_rmse"
   ]
  },
  {
   "cell_type": "markdown",
   "metadata": {},
   "source": [
    "Now we will perform a t-test to see if the corelation in our data is by pure random chance. There's a catch though: we're doing multiple linear regression, the degree of freedom hence will not be $n-2$, but $n-p-1$, where p is the number of independent variables.\n",
    "\n",
    "Our null hypothesis $H_0$ here will be there is no corelation, and hence the alternative hypothesis $H_1$ will be there is a correlation. We denote the population correlation coefficient vector (as we have many independent variables, not one) as $\\rho$, and the sample correlation coefficient vector as r.\n",
    "$$H_0: \\rho = 0$$\n",
    "$$H_1: \\rho \\neq 0$$\n",
    "\n",
    "Here $0$ is a vector full of zeros. "
   ]
  },
  {
   "cell_type": "code",
   "execution_count": 14,
   "metadata": {},
   "outputs": [],
   "source": [
    "# Degree of freedom\n",
    "n = len(X_train)\n",
    "num_parameters = X_train.shape[1]\n",
    "degree_of_freedom = n - num_parameters - 1\n",
    "\n",
    "# Residuals errors\n",
    "residuals = y_train - y_predict\n",
    "\n",
    "# Standard error of the model\n",
    "standard_error = np.sqrt(np.sum(residuals**2) / degree_of_freedom)"
   ]
  },
  {
   "cell_type": "code",
   "execution_count": 15,
   "metadata": {},
   "outputs": [
    {
     "name": "stderr",
     "output_type": "stream",
     "text": [
      "/tmp/ipykernel_28902/190061657.py:16: RuntimeWarning: invalid value encountered in sqrt\n",
      "  coef_standard_error = np.sqrt(coef_variances)\n"
     ]
    }
   ],
   "source": [
    "# We need to use preprocessed data\n",
    "X_train_preprocessed = lin_reg.get_params()[\"columntransformer\"].fit_transform(X_train)\n",
    "X_train_preprocessed = pd.DataFrame(\n",
    "    X_train_preprocessed,\n",
    "    index=X_train.index,\n",
    "    columns=preprocessing.get_feature_names_out(),\n",
    ")\n",
    "\n",
    "# Standard error of coefficients\n",
    "X_with_intercept = np.c_[\n",
    "    np.ones((X_train_preprocessed.shape[0], 1)), X_train_preprocessed\n",
    "]  # add intercept\n",
    "coef_variances = (\n",
    "    standard_error**2 * np.linalg.inv(X_with_intercept.T @ X_with_intercept).diagonal()\n",
    ")\n",
    "coef_standard_error = np.sqrt(coef_variances)"
   ]
  },
  {
   "cell_type": "markdown",
   "metadata": {},
   "source": [
    "Because the fifth and sixth values of `coef_variances` are negative, when taking square root, they become `nan`. This indicates there's a numerical instability happens here with Python. A possibility, which is our case, is where `X_with_intercept.T @ X_with_intercept` is close to singular."
   ]
  },
  {
   "cell_type": "code",
   "execution_count": 16,
   "metadata": {},
   "outputs": [
    {
     "data": {
      "text/plain": [
       "array([ 5.45461759e+20,  3.38276407e+04,  3.64468693e+04,  3.33239208e+04,\n",
       "       -6.17229527e+21, -6.17229527e+21,  5.71567532e+20,  5.71567532e+20,\n",
       "        1.13328257e+05,  7.76068061e+04,  1.05023333e+05,  1.19849896e+05])"
      ]
     },
     "execution_count": 16,
     "metadata": {},
     "output_type": "execute_result"
    }
   ],
   "source": [
    "coef_variances"
   ]
  },
  {
   "cell_type": "code",
   "execution_count": 17,
   "metadata": {},
   "outputs": [
    {
     "data": {
      "text/plain": [
       "array([2.33551228e+10, 1.83922921e+02, 1.90910632e+02, 1.82548407e+02,\n",
       "                  nan,            nan, 2.39074786e+10, 2.39074786e+10,\n",
       "       3.36642625e+02, 2.78579981e+02, 3.24073036e+02, 3.46193437e+02])"
      ]
     },
     "execution_count": 17,
     "metadata": {},
     "output_type": "execute_result"
    }
   ],
   "source": [
    "coef_standard_error"
   ]
  },
  {
   "cell_type": "markdown",
   "metadata": {},
   "source": [
    "Hence I'll explicitly make them a bit larger than zero here, to make them able to be divided later."
   ]
  },
  {
   "cell_type": "code",
   "execution_count": 18,
   "metadata": {},
   "outputs": [
    {
     "data": {
      "text/plain": [
       "array([2.33551228e+10, 1.83922921e+02, 1.90910632e+02, 1.82548407e+02,\n",
       "       1.00000000e-10, 1.00000000e-10, 2.39074786e+10, 2.39074786e+10,\n",
       "       3.36642625e+02, 2.78579981e+02, 3.24073036e+02, 3.46193437e+02])"
      ]
     },
     "execution_count": 18,
     "metadata": {},
     "output_type": "execute_result"
    }
   ],
   "source": [
    "coef_standard_error[[4, 5]] = [1e-10, 1e-10]\n",
    "coef_standard_error"
   ]
  },
  {
   "cell_type": "code",
   "execution_count": 19,
   "metadata": {},
   "outputs": [],
   "source": [
    "# t-statistics\n",
    "t_stats = lin_reg_params.coef_ / coef_standard_error[1:]\n",
    "\n",
    "# p-values\n",
    "p_values = [2 * (1 - t(degree_of_freedom).cdf(np.abs(t_stat))) for t_stat in t_stats]"
   ]
  },
  {
   "cell_type": "code",
   "execution_count": 20,
   "metadata": {},
   "outputs": [
    {
     "name": "stdout",
     "output_type": "stream",
     "text": [
      "The p-value of pipeline-1__age is 0.0\n",
      "  and the t-stat is 19.897146126880298\n",
      "The p-value of pipeline-1__bmi is 0.0\n",
      "  and the t-stat is 10.448936085977204\n",
      "The p-value of pipeline-1__children is 0.005134653079546636\n",
      "  and the t-stat is 2.8039353647446412\n",
      "The p-value of pipeline-2__sex_female is 0.0\n",
      "  and the t-stat is 661529141706.0062\n",
      "The p-value of pipeline-2__sex_male is 0.0\n",
      "  and the t-stat is -661529141706.0082\n",
      "The p-value of pipeline-2__smoker_no is 0.9999996032943985\n",
      "  and the t-stat is -4.973066530148917e-07\n",
      "The p-value of pipeline-2__smoker_yes is 0.9999996032943985\n",
      "  and the t-stat is 4.973066530148918e-07\n",
      "The p-value of pipeline-2__region_northeast is 0.23245706644499942\n",
      "  and the t-stat is 1.1946940350958395\n",
      "The p-value of pipeline-2__region_northwest is 0.7907594042101893\n",
      "  and the t-stat is 0.2653874003228499\n",
      "The p-value of pipeline-2__region_southeast is 0.49895041456122735\n",
      "  and the t-stat is -0.676359969374524\n",
      "The p-value of pipeline-2__region_southwest is 0.4581521869024714\n",
      "  and the t-stat is -0.7421472998711292\n"
     ]
    }
   ],
   "source": [
    "for i in range(X_train_preprocessed.shape[1]):  # number of independent variables\n",
    "    print(\n",
    "        f\"The p-value of {X_train_preprocessed.columns[i]} is {p_values[i]}\\n  and the t-stat is {t_stats[i]}\"\n",
    "    )"
   ]
  },
  {
   "cell_type": "markdown",
   "metadata": {},
   "source": [
    "The result above has some problems with it. One problem is here:"
   ]
  },
  {
   "cell_type": "code",
   "execution_count": 21,
   "metadata": {},
   "outputs": [
    {
     "data": {
      "text/html": [
       "<div>\n",
       "<style scoped>\n",
       "    .dataframe tbody tr th:only-of-type {\n",
       "        vertical-align: middle;\n",
       "    }\n",
       "\n",
       "    .dataframe tbody tr th {\n",
       "        vertical-align: top;\n",
       "    }\n",
       "\n",
       "    .dataframe thead th {\n",
       "        text-align: right;\n",
       "    }\n",
       "</style>\n",
       "<table border=\"1\" class=\"dataframe\">\n",
       "  <thead>\n",
       "    <tr style=\"text-align: right;\">\n",
       "      <th></th>\n",
       "      <th>0</th>\n",
       "      <th>1</th>\n",
       "      <th>2</th>\n",
       "      <th>3</th>\n",
       "      <th>4</th>\n",
       "      <th>5</th>\n",
       "      <th>6</th>\n",
       "      <th>7</th>\n",
       "      <th>8</th>\n",
       "      <th>9</th>\n",
       "      <th>10</th>\n",
       "      <th>11</th>\n",
       "    </tr>\n",
       "  </thead>\n",
       "  <tbody>\n",
       "    <tr>\n",
       "      <th>0</th>\n",
       "      <td>8.557010e+15</td>\n",
       "      <td>0.932255</td>\n",
       "      <td>3.289713</td>\n",
       "      <td>-0.090833</td>\n",
       "      <td>4.188273e+15</td>\n",
       "      <td>4.368737e+15</td>\n",
       "      <td>6.812523e+15</td>\n",
       "      <td>1.744487e+15</td>\n",
       "      <td>2.060299e+15</td>\n",
       "      <td>2.082857e+15</td>\n",
       "      <td>2.323476e+15</td>\n",
       "      <td>2.090377e+15</td>\n",
       "    </tr>\n",
       "    <tr>\n",
       "      <th>1</th>\n",
       "      <td>-3.709278e-01</td>\n",
       "      <td>0.999029</td>\n",
       "      <td>-0.023337</td>\n",
       "      <td>0.001481</td>\n",
       "      <td>-1.768194e-01</td>\n",
       "      <td>-1.941083e-01</td>\n",
       "      <td>-2.976264e-01</td>\n",
       "      <td>-7.330135e-02</td>\n",
       "      <td>-6.702349e-02</td>\n",
       "      <td>-6.676925e-02</td>\n",
       "      <td>-1.291518e-01</td>\n",
       "      <td>-1.079832e-01</td>\n",
       "    </tr>\n",
       "    <tr>\n",
       "      <th>2</th>\n",
       "      <td>9.472740e-02</td>\n",
       "      <td>0.003709</td>\n",
       "      <td>1.024695</td>\n",
       "      <td>-0.001603</td>\n",
       "      <td>3.234759e-02</td>\n",
       "      <td>6.237981e-02</td>\n",
       "      <td>9.689815e-02</td>\n",
       "      <td>-2.170751e-03</td>\n",
       "      <td>-1.067418e-02</td>\n",
       "      <td>1.356008e-03</td>\n",
       "      <td>4.873913e-02</td>\n",
       "      <td>5.530643e-02</td>\n",
       "    </tr>\n",
       "    <tr>\n",
       "      <th>3</th>\n",
       "      <td>2.536422e+00</td>\n",
       "      <td>0.000325</td>\n",
       "      <td>0.003065</td>\n",
       "      <td>0.999682</td>\n",
       "      <td>1.239191e+00</td>\n",
       "      <td>1.297231e+00</td>\n",
       "      <td>2.019547e+00</td>\n",
       "      <td>5.168748e-01</td>\n",
       "      <td>6.091223e-01</td>\n",
       "      <td>6.089119e-01</td>\n",
       "      <td>6.902366e-01</td>\n",
       "      <td>6.281511e-01</td>\n",
       "    </tr>\n",
       "    <tr>\n",
       "      <th>4</th>\n",
       "      <td>-9.761382e+16</td>\n",
       "      <td>-12.655811</td>\n",
       "      <td>-42.417084</td>\n",
       "      <td>1.709135</td>\n",
       "      <td>-4.777759e+16</td>\n",
       "      <td>-4.983623e+16</td>\n",
       "      <td>-7.771364e+16</td>\n",
       "      <td>-1.990018e+16</td>\n",
       "      <td>-2.350280e+16</td>\n",
       "      <td>-2.376013e+16</td>\n",
       "      <td>-2.650498e+16</td>\n",
       "      <td>-2.384591e+16</td>\n",
       "    </tr>\n",
       "    <tr>\n",
       "      <th>5</th>\n",
       "      <td>-9.761382e+16</td>\n",
       "      <td>-12.655811</td>\n",
       "      <td>-44.417084</td>\n",
       "      <td>1.834135</td>\n",
       "      <td>-4.777759e+16</td>\n",
       "      <td>-4.983623e+16</td>\n",
       "      <td>-7.771364e+16</td>\n",
       "      <td>-1.990018e+16</td>\n",
       "      <td>-2.350280e+16</td>\n",
       "      <td>-2.376013e+16</td>\n",
       "      <td>-2.650498e+16</td>\n",
       "      <td>-2.384591e+16</td>\n",
       "    </tr>\n",
       "    <tr>\n",
       "      <th>6</th>\n",
       "      <td>8.905681e+16</td>\n",
       "      <td>11.673546</td>\n",
       "      <td>42.256747</td>\n",
       "      <td>-1.648393</td>\n",
       "      <td>4.358932e+16</td>\n",
       "      <td>4.546749e+16</td>\n",
       "      <td>7.090111e+16</td>\n",
       "      <td>1.815569e+16</td>\n",
       "      <td>2.144250e+16</td>\n",
       "      <td>2.167727e+16</td>\n",
       "      <td>2.418151e+16</td>\n",
       "      <td>2.175553e+16</td>\n",
       "    </tr>\n",
       "    <tr>\n",
       "      <th>7</th>\n",
       "      <td>8.905681e+16</td>\n",
       "      <td>11.673546</td>\n",
       "      <td>42.256747</td>\n",
       "      <td>-1.773393</td>\n",
       "      <td>4.358932e+16</td>\n",
       "      <td>4.546749e+16</td>\n",
       "      <td>7.090111e+16</td>\n",
       "      <td>1.815569e+16</td>\n",
       "      <td>2.144250e+16</td>\n",
       "      <td>2.167727e+16</td>\n",
       "      <td>2.418151e+16</td>\n",
       "      <td>2.175553e+16</td>\n",
       "    </tr>\n",
       "    <tr>\n",
       "      <th>8</th>\n",
       "      <td>5.637045e+00</td>\n",
       "      <td>0.315548</td>\n",
       "      <td>-0.096864</td>\n",
       "      <td>0.117215</td>\n",
       "      <td>3.069959e+00</td>\n",
       "      <td>1.567086e+00</td>\n",
       "      <td>1.147922e+01</td>\n",
       "      <td>1.532821e+00</td>\n",
       "      <td>3.000000e+00</td>\n",
       "      <td>2.000000e+00</td>\n",
       "      <td>2.500000e+00</td>\n",
       "      <td>3.000000e+00</td>\n",
       "    </tr>\n",
       "    <tr>\n",
       "      <th>9</th>\n",
       "      <td>5.269455e+00</td>\n",
       "      <td>0.327906</td>\n",
       "      <td>-0.177743</td>\n",
       "      <td>0.120776</td>\n",
       "      <td>2.873937e+00</td>\n",
       "      <td>1.395518e+00</td>\n",
       "      <td>1.122127e+01</td>\n",
       "      <td>1.423182e+00</td>\n",
       "      <td>1.500000e+00</td>\n",
       "      <td>3.000000e+00</td>\n",
       "      <td>2.000000e+00</td>\n",
       "      <td>3.000000e+00</td>\n",
       "    </tr>\n",
       "    <tr>\n",
       "      <th>10</th>\n",
       "      <td>2.007957e+01</td>\n",
       "      <td>0.157218</td>\n",
       "      <td>-0.124710</td>\n",
       "      <td>0.100603</td>\n",
       "      <td>1.061031e+01</td>\n",
       "      <td>9.469257e+00</td>\n",
       "      <td>5.330360e+00</td>\n",
       "      <td>1.967961e+00</td>\n",
       "      <td>3.500000e+00</td>\n",
       "      <td>3.000000e+00</td>\n",
       "      <td>5.000000e+00</td>\n",
       "      <td>4.000000e+00</td>\n",
       "    </tr>\n",
       "    <tr>\n",
       "      <th>11</th>\n",
       "      <td>3.917666e+00</td>\n",
       "      <td>0.206492</td>\n",
       "      <td>-0.208648</td>\n",
       "      <td>0.092387</td>\n",
       "      <td>2.535136e+00</td>\n",
       "      <td>1.382530e+00</td>\n",
       "      <td>-2.725680e+00</td>\n",
       "      <td>-1.379040e-01</td>\n",
       "      <td>5.000000e-01</td>\n",
       "      <td>0.000000e+00</td>\n",
       "      <td>0.000000e+00</td>\n",
       "      <td>2.000000e+00</td>\n",
       "    </tr>\n",
       "  </tbody>\n",
       "</table>\n",
       "</div>"
      ],
      "text/plain": [
       "              0          1          2         3             4             5   \\\n",
       "0   8.557010e+15   0.932255   3.289713 -0.090833  4.188273e+15  4.368737e+15   \n",
       "1  -3.709278e-01   0.999029  -0.023337  0.001481 -1.768194e-01 -1.941083e-01   \n",
       "2   9.472740e-02   0.003709   1.024695 -0.001603  3.234759e-02  6.237981e-02   \n",
       "3   2.536422e+00   0.000325   0.003065  0.999682  1.239191e+00  1.297231e+00   \n",
       "4  -9.761382e+16 -12.655811 -42.417084  1.709135 -4.777759e+16 -4.983623e+16   \n",
       "5  -9.761382e+16 -12.655811 -44.417084  1.834135 -4.777759e+16 -4.983623e+16   \n",
       "6   8.905681e+16  11.673546  42.256747 -1.648393  4.358932e+16  4.546749e+16   \n",
       "7   8.905681e+16  11.673546  42.256747 -1.773393  4.358932e+16  4.546749e+16   \n",
       "8   5.637045e+00   0.315548  -0.096864  0.117215  3.069959e+00  1.567086e+00   \n",
       "9   5.269455e+00   0.327906  -0.177743  0.120776  2.873937e+00  1.395518e+00   \n",
       "10  2.007957e+01   0.157218  -0.124710  0.100603  1.061031e+01  9.469257e+00   \n",
       "11  3.917666e+00   0.206492  -0.208648  0.092387  2.535136e+00  1.382530e+00   \n",
       "\n",
       "              6             7             8             9             10  \\\n",
       "0   6.812523e+15  1.744487e+15  2.060299e+15  2.082857e+15  2.323476e+15   \n",
       "1  -2.976264e-01 -7.330135e-02 -6.702349e-02 -6.676925e-02 -1.291518e-01   \n",
       "2   9.689815e-02 -2.170751e-03 -1.067418e-02  1.356008e-03  4.873913e-02   \n",
       "3   2.019547e+00  5.168748e-01  6.091223e-01  6.089119e-01  6.902366e-01   \n",
       "4  -7.771364e+16 -1.990018e+16 -2.350280e+16 -2.376013e+16 -2.650498e+16   \n",
       "5  -7.771364e+16 -1.990018e+16 -2.350280e+16 -2.376013e+16 -2.650498e+16   \n",
       "6   7.090111e+16  1.815569e+16  2.144250e+16  2.167727e+16  2.418151e+16   \n",
       "7   7.090111e+16  1.815569e+16  2.144250e+16  2.167727e+16  2.418151e+16   \n",
       "8   1.147922e+01  1.532821e+00  3.000000e+00  2.000000e+00  2.500000e+00   \n",
       "9   1.122127e+01  1.423182e+00  1.500000e+00  3.000000e+00  2.000000e+00   \n",
       "10  5.330360e+00  1.967961e+00  3.500000e+00  3.000000e+00  5.000000e+00   \n",
       "11 -2.725680e+00 -1.379040e-01  5.000000e-01  0.000000e+00  0.000000e+00   \n",
       "\n",
       "              11  \n",
       "0   2.090377e+15  \n",
       "1  -1.079832e-01  \n",
       "2   5.530643e-02  \n",
       "3   6.281511e-01  \n",
       "4  -2.384591e+16  \n",
       "5  -2.384591e+16  \n",
       "6   2.175553e+16  \n",
       "7   2.175553e+16  \n",
       "8   3.000000e+00  \n",
       "9   3.000000e+00  \n",
       "10  4.000000e+00  \n",
       "11  2.000000e+00  "
      ]
     },
     "execution_count": 21,
     "metadata": {},
     "output_type": "execute_result"
    }
   ],
   "source": [
    "pd.DataFrame(\n",
    "    np.linalg.inv(X_with_intercept.T @ X_with_intercept)\n",
    "    @ (X_with_intercept.T @ X_with_intercept)\n",
    ")"
   ]
  },
  {
   "cell_type": "markdown",
   "metadata": {},
   "source": [
    "We can't calculate the inverse matrix properly!"
   ]
  },
  {
   "cell_type": "markdown",
   "metadata": {},
   "source": [
    "See what happen when I use the library `statsmodels`."
   ]
  },
  {
   "cell_type": "code",
   "execution_count": 22,
   "metadata": {},
   "outputs": [
    {
     "name": "stdout",
     "output_type": "stream",
     "text": [
      "                            OLS Regression Results                            \n",
      "==============================================================================\n",
      "Dep. Variable:                charges   R-squared:                       0.742\n",
      "Model:                            OLS   Adj. R-squared:                  0.740\n",
      "Method:                 Least Squares   F-statistic:                     406.1\n",
      "Date:                Sat, 18 May 2024   Prob (F-statistic):               0.00\n",
      "Time:                        23:52:42   Log-Likelihood:                -11538.\n",
      "No. Observations:                1138   AIC:                         2.309e+04\n",
      "Df Residuals:                    1129   BIC:                         2.314e+04\n",
      "Df Model:                           8                                         \n",
      "Covariance Type:            nonrobust                                         \n",
      "================================================================================================\n",
      "                                   coef    std err          t      P>|t|      [0.025      0.975]\n",
      "------------------------------------------------------------------------------------------------\n",
      "const                         9034.1675    101.142     89.321      0.000    8835.719    9232.616\n",
      "pipeline-1__age               3659.5412    184.086     19.880      0.000    3298.353    4020.730\n",
      "pipeline-1__bmi               1994.8130    191.080     10.440      0.000    1619.902    2369.724\n",
      "pipeline-1__children           511.8539    182.710      2.801      0.005     153.365     870.343\n",
      "pipeline-2__sex_female        4583.2367    192.963     23.752      0.000    4204.631    4961.843\n",
      "pipeline-2__sex_male          4450.9309    186.767     23.832      0.000    4084.482    4817.379\n",
      "pipeline-2__smoker_no        -7372.2644    201.780    -36.536      0.000   -7768.171   -6976.358\n",
      "pipeline-2__smoker_yes        1.641e+04    261.206     62.810      0.000    1.59e+04    1.69e+04\n",
      "pipeline-2__region_northeast  2660.7268    324.634      8.196      0.000    2023.774    3297.680\n",
      "pipeline-2__region_northwest  2332.4735    323.507      7.210      0.000    1697.731    2967.216\n",
      "pipeline-2__region_southeast  2039.3519    318.321      6.407      0.000    1414.784    2663.920\n",
      "pipeline-2__region_southwest  2001.6154    320.266      6.250      0.000    1373.232    2629.999\n",
      "==============================================================================\n",
      "Omnibus:                      265.631   Durbin-Watson:                   2.102\n",
      "Prob(Omnibus):                  0.000   Jarque-Bera (JB):              645.607\n",
      "Skew:                           1.244   Prob(JB):                    6.43e-141\n",
      "Kurtosis:                       5.725   Cond. No.                     1.31e+16\n",
      "==============================================================================\n",
      "\n",
      "Notes:\n",
      "[1] Standard Errors assume that the covariance matrix of the errors is correctly specified.\n",
      "[2] The smallest eigenvalue is 1.62e-29. This might indicate that there are\n",
      "strong multicollinearity problems or that the design matrix is singular.\n"
     ]
    }
   ],
   "source": [
    "import statsmodels.api as sm\n",
    "\n",
    "X = sm.add_constant(X_train_preprocessed)\n",
    "model = sm.OLS(y_train, X).fit(use_t=True)\n",
    "\n",
    "\n",
    "print(model.summary())"
   ]
  }
 ],
 "metadata": {
  "kernelspec": {
   "display_name": "handsonds",
   "language": "python",
   "name": "python3"
  },
  "language_info": {
   "codemirror_mode": {
    "name": "ipython",
    "version": 3
   },
   "file_extension": ".py",
   "mimetype": "text/x-python",
   "name": "python",
   "nbconvert_exporter": "python",
   "pygments_lexer": "ipython3",
   "version": "3.11.5"
  }
 },
 "nbformat": 4,
 "nbformat_minor": 2
}
